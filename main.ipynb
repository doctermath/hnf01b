{
 "cells": [
  {
   "cell_type": "code",
   "execution_count": 9,
   "metadata": {},
   "outputs": [],
   "source": [
    "#PACKAGES\n",
    "import numpy as np\n",
    "import pandas as pd\n",
    "import matplotlib.pyplot as plt\n",
    "from scipy import stats\n",
    "from sklearn.model_selection import train_test_split\n",
    "from sklearn.metrics import mean_absolute_error,mean_squared_error, r2_score\n",
    "from sklearn.linear_model import LinearRegression\n",
    "from sklearn.preprocessing import PolynomialFeatures\n",
    "from statsmodels.tsa.api import SimpleExpSmoothing, Holt, ExponentialSmoothing\n",
    "import json\n",
    "import os\n",
    "import warnings\n",
    "warnings.filterwarnings(\"ignore\")"
   ]
  },
  {
   "cell_type": "code",
   "execution_count": 18,
   "metadata": {},
   "outputs": [],
   "source": [
    "# Define the file path\n",
    "file_path = \"reference/datafull.xlsx\"\n",
    "\n",
    "# Load the Excel file into a DataFrame\n",
    "df = pd.read_excel(file_path, header=4)\n"
   ]
  },
  {
   "cell_type": "code",
   "execution_count": null,
   "metadata": {},
   "outputs": [],
   "source": [
    "# Export the first 10 rows to an Excel file\n",
    "df.head(10).to_excel(\"datadummy.xlsx\", index=False)\n"
   ]
  },
  {
   "cell_type": "code",
   "execution_count": 17,
   "metadata": {},
   "outputs": [
    {
     "name": "stdout",
     "output_type": "stream",
     "text": [
      "halo Mas\n"
     ]
    },
    {
     "data": {
      "text/plain": [
       "{'Brc': {7035: '80'},\n",
       " 'Agc': {7035: 23.0},\n",
       " 'P/N': {7035: 'FS20203'},\n",
       " 'Desc': {7035: '*FULWTRSEP'},\n",
       " 'DN Price': {7035: 11.33},\n",
       " 'DR/\\nNDR': {7035: 'DR'},\n",
       " 'OH': {7035: 0.0},\n",
       " 'OO': {7035: 139.0},\n",
       " 'Book': {7035: 0.0},\n",
       " 'Alloc\\nIn': {7035: 0.0},\n",
       " 'Alloc\\nOut': {7035: 0.0},\n",
       " 'D TM': {7035: 0.0},\n",
       " 'D-1': {7035: 433.0},\n",
       " 'D-2': {7035: 63.0},\n",
       " 'D-3': {7035: 154.0},\n",
       " 'D-4': {7035: 22.0},\n",
       " 'D-5': {7035: 38.0},\n",
       " 'D-6': {7035: 22.0},\n",
       " 'D-7': {7035: 85.0},\n",
       " 'D-8': {7035: 12.0},\n",
       " 'D-9': {7035: 29.0},\n",
       " 'D-10': {7035: 15.0},\n",
       " 'D-11': {7035: 28.0},\n",
       " 'D-12': {7035: 41.0},\n",
       " 'D-13': {7035: 5.0},\n",
       " 'C TM': {7035: 0.0},\n",
       " 'C-1': {7035: 10.0},\n",
       " 'C-2': {7035: 10.0},\n",
       " 'C-3': {7035: 7.0},\n",
       " 'C-4': {7035: 6.0},\n",
       " 'C-5': {7035: 6.0},\n",
       " 'C-6': {7035: 3.0},\n",
       " 'C-7': {7035: 6.0},\n",
       " 'C-8': {7035: 2.0},\n",
       " 'C-9': {7035: 5.0},\n",
       " 'C-10': {7035: 4.0},\n",
       " 'C-11': {7035: 9.0},\n",
       " 'C-12': {7035: 11.0},\n",
       " 'C-13': {7035: 4.0},\n",
       " 'Last Sales': {7035: Timestamp('2024-09-27 00:00:00')},\n",
       " 'Last GRR': {7035: Timestamp('2024-10-01 00:00:00')},\n",
       " 'Last Return': {7035: 'XW12042'},\n",
       " 'Date': {7035: Timestamp('2024-08-20 00:00:00')},\n",
       " 'Category': {7035: 'INVALID RECOMENDATION'},\n",
       " 'Bin Loc': {7035: '3J02A'},\n",
       " 'Status': {7035: nan},\n",
       " 'Tot\\nAll': {7035: 1165.0},\n",
       " 'Tot\\nCall': {7035: 79.0},\n",
       " 'Tot\\nDmd': {7035: 942.0}}"
      ]
     },
     "metadata": {},
     "output_type": "display_data"
    }
   ],
   "source": [
    "\n",
    "# Display the first few rows of the DataFrame to confirm\n",
    "aaa = df[(df['Brc'] == '80') & (df['P/N'] == 'FS20203') & (df['Agc'] == 23)]\n",
    "display(aaa.to_dict())"
   ]
  },
  {
   "cell_type": "code",
   "execution_count": null,
   "metadata": {},
   "outputs": [],
   "source": []
  }
 ],
 "metadata": {
  "kernelspec": {
   "display_name": "Python 3",
   "language": "python",
   "name": "python3"
  },
  "language_info": {
   "codemirror_mode": {
    "name": "ipython",
    "version": 3
   },
   "file_extension": ".py",
   "mimetype": "text/x-python",
   "name": "python",
   "nbconvert_exporter": "python",
   "pygments_lexer": "ipython3",
   "version": "3.12.3"
  }
 },
 "nbformat": 4,
 "nbformat_minor": 2
}

{
 "cells": [
  {
   "cell_type": "code",
   "execution_count": 1,
   "metadata": {},
   "outputs": [],
   "source": [
    "import numpy as np\n",
    "import pandas as pd\n",
    "\n",
    "import time\n",
    "import sys\n",
    "import requests\n",
    "import logging\n",
    "import os\n",
    "\n",
    "from datetime import datetime, timedelta\n",
    "from dateutil.relativedelta import relativedelta\n",
    "from scipy import stats\n",
    "from scipy.optimize import minimize\n",
    "from sklearn.model_selection import train_test_split\n",
    "from sklearn.metrics import mean_absolute_error,mean_squared_error, r2_score\n",
    "from sklearn.linear_model import LinearRegression\n",
    "from sklearn.preprocessing import PolynomialFeatures\n",
    "from statsmodels.tsa.api import SimpleExpSmoothing, Holt, ExponentialSmoothing"
   ]
  },
  {
   "cell_type": "code",
   "execution_count": 2,
   "metadata": {},
   "outputs": [
    {
     "name": "stderr",
     "output_type": "stream",
     "text": [
      "2025-01-28 10:22:33 - INFO - ========================================\n",
      "2025-01-28 10:22:33 - INFO - BEGIN PYTHON FORECAST PROGRAM FOR SPAREPARTS\n"
     ]
    }
   ],
   "source": [
    "# Set Display Width Longer\n",
    "pd.options.display.max_colwidth = 200  # 100 for long width\n",
    "\n",
    "# create folder logs/forecast.log if not exist\n",
    "if not os.path.exists(\"logs\"):\n",
    "    os.makedirs(\"logs\")\n",
    "\n",
    "# Set Logging\n",
    "logging.basicConfig(\n",
    "    format=\"{asctime} - {levelname} - {message}\",\n",
    "    style=\"{\",\n",
    "    datefmt=\"%Y-%m-%d %H:%M:%S\",\n",
    "    level=logging.INFO,\n",
    "    handlers=[logging.FileHandler(\"logs/forecast.log\"), logging.StreamHandler()],\n",
    ")\n",
    "logging.info(\"=\"*40)\n",
    "logging.info(\"BEGIN PYTHON FORECAST PROGRAM FOR SPAREPARTS\")"
   ]
  },
  {
   "cell_type": "code",
   "execution_count": 3,
   "metadata": {},
   "outputs": [
    {
     "name": "stderr",
     "output_type": "stream",
     "text": [
      "2025-01-28 10:22:33 - INFO - BEGIN Retrieving API\n",
      "2025-01-28 10:22:33 - INFO - API Data From Start Date: 2023-09-01 to End Date: 2024-12-01\n",
      "2025-01-28 10:22:37 - INFO - Attempt 1: API request failed - HTTPConnectionPool(host='localhost', port=8080): Max retries exceeded with url: /v1/web/test9?start-date=2023-09-01&end-date=2024-12-01&exclude-older=2023-09-01&branch=&agency=&partno= (Caused by NewConnectionError('<urllib3.connection.HTTPConnection object at 0x00000246CF9AFFE0>: Failed to establish a new connection: [WinError 10061] No connection could be made because the target machine actively refused it'))\n",
      "2025-01-28 10:22:43 - INFO - Attempt 2: API request failed - HTTPConnectionPool(host='localhost', port=8080): Max retries exceeded with url: /v1/web/test9?start-date=2023-09-01&end-date=2024-12-01&exclude-older=2023-09-01&branch=&agency=&partno= (Caused by NewConnectionError('<urllib3.connection.HTTPConnection object at 0x00000246E807A720>: Failed to establish a new connection: [WinError 10061] No connection could be made because the target machine actively refused it'))\n",
      "2025-01-28 10:22:51 - INFO - Attempt 3: API request failed - HTTPConnectionPool(host='localhost', port=8080): Max retries exceeded with url: /v1/web/test9?start-date=2023-09-01&end-date=2024-12-01&exclude-older=2023-09-01&branch=&agency=&partno= (Caused by NewConnectionError('<urllib3.connection.HTTPConnection object at 0x00000246E807B020>: Failed to establish a new connection: [WinError 10061] No connection could be made because the target machine actively refused it'))\n",
      "2025-01-28 10:23:03 - INFO - Attempt 4: API request failed - HTTPConnectionPool(host='localhost', port=8080): Max retries exceeded with url: /v1/web/test9?start-date=2023-09-01&end-date=2024-12-01&exclude-older=2023-09-01&branch=&agency=&partno= (Caused by NewConnectionError('<urllib3.connection.HTTPConnection object at 0x00000246E807B920>: Failed to establish a new connection: [WinError 10061] No connection could be made because the target machine actively refused it'))\n",
      "2025-01-28 10:23:23 - INFO - Attempt 5: API request failed - HTTPConnectionPool(host='localhost', port=8080): Max retries exceeded with url: /v1/web/test9?start-date=2023-09-01&end-date=2024-12-01&exclude-older=2023-09-01&branch=&agency=&partno= (Caused by NewConnectionError('<urllib3.connection.HTTPConnection object at 0x00000246B73EC2C0>: Failed to establish a new connection: [WinError 10061] No connection could be made because the target machine actively refused it'))\n"
     ]
    },
    {
     "ename": "KeyboardInterrupt",
     "evalue": "",
     "output_type": "error",
     "traceback": [
      "\u001b[1;31m---------------------------------------------------------------------------\u001b[0m",
      "\u001b[1;31mConnectionRefusedError\u001b[0m                    Traceback (most recent call last)",
      "File \u001b[1;32mc:\\Users\\Brandon\\AppData\\Local\\Programs\\Python\\Python312\\Lib\\site-packages\\urllib3\\connection.py:198\u001b[0m, in \u001b[0;36mHTTPConnection._new_conn\u001b[1;34m(self)\u001b[0m\n\u001b[0;32m    197\u001b[0m \u001b[38;5;28;01mtry\u001b[39;00m:\n\u001b[1;32m--> 198\u001b[0m     sock \u001b[38;5;241m=\u001b[39m \u001b[43mconnection\u001b[49m\u001b[38;5;241;43m.\u001b[39;49m\u001b[43mcreate_connection\u001b[49m\u001b[43m(\u001b[49m\n\u001b[0;32m    199\u001b[0m \u001b[43m        \u001b[49m\u001b[43m(\u001b[49m\u001b[38;5;28;43mself\u001b[39;49m\u001b[38;5;241;43m.\u001b[39;49m\u001b[43m_dns_host\u001b[49m\u001b[43m,\u001b[49m\u001b[43m \u001b[49m\u001b[38;5;28;43mself\u001b[39;49m\u001b[38;5;241;43m.\u001b[39;49m\u001b[43mport\u001b[49m\u001b[43m)\u001b[49m\u001b[43m,\u001b[49m\n\u001b[0;32m    200\u001b[0m \u001b[43m        \u001b[49m\u001b[38;5;28;43mself\u001b[39;49m\u001b[38;5;241;43m.\u001b[39;49m\u001b[43mtimeout\u001b[49m\u001b[43m,\u001b[49m\n\u001b[0;32m    201\u001b[0m \u001b[43m        \u001b[49m\u001b[43msource_address\u001b[49m\u001b[38;5;241;43m=\u001b[39;49m\u001b[38;5;28;43mself\u001b[39;49m\u001b[38;5;241;43m.\u001b[39;49m\u001b[43msource_address\u001b[49m\u001b[43m,\u001b[49m\n\u001b[0;32m    202\u001b[0m \u001b[43m        \u001b[49m\u001b[43msocket_options\u001b[49m\u001b[38;5;241;43m=\u001b[39;49m\u001b[38;5;28;43mself\u001b[39;49m\u001b[38;5;241;43m.\u001b[39;49m\u001b[43msocket_options\u001b[49m\u001b[43m,\u001b[49m\n\u001b[0;32m    203\u001b[0m \u001b[43m    \u001b[49m\u001b[43m)\u001b[49m\n\u001b[0;32m    204\u001b[0m \u001b[38;5;28;01mexcept\u001b[39;00m socket\u001b[38;5;241m.\u001b[39mgaierror \u001b[38;5;28;01mas\u001b[39;00m e:\n",
      "File \u001b[1;32mc:\\Users\\Brandon\\AppData\\Local\\Programs\\Python\\Python312\\Lib\\site-packages\\urllib3\\util\\connection.py:85\u001b[0m, in \u001b[0;36mcreate_connection\u001b[1;34m(address, timeout, source_address, socket_options)\u001b[0m\n\u001b[0;32m     84\u001b[0m \u001b[38;5;28;01mtry\u001b[39;00m:\n\u001b[1;32m---> 85\u001b[0m     \u001b[38;5;28;01mraise\u001b[39;00m err\n\u001b[0;32m     86\u001b[0m \u001b[38;5;28;01mfinally\u001b[39;00m:\n\u001b[0;32m     87\u001b[0m     \u001b[38;5;66;03m# Break explicitly a reference cycle\u001b[39;00m\n",
      "File \u001b[1;32mc:\\Users\\Brandon\\AppData\\Local\\Programs\\Python\\Python312\\Lib\\site-packages\\urllib3\\util\\connection.py:73\u001b[0m, in \u001b[0;36mcreate_connection\u001b[1;34m(address, timeout, source_address, socket_options)\u001b[0m\n\u001b[0;32m     72\u001b[0m     sock\u001b[38;5;241m.\u001b[39mbind(source_address)\n\u001b[1;32m---> 73\u001b[0m \u001b[43msock\u001b[49m\u001b[38;5;241;43m.\u001b[39;49m\u001b[43mconnect\u001b[49m\u001b[43m(\u001b[49m\u001b[43msa\u001b[49m\u001b[43m)\u001b[49m\n\u001b[0;32m     74\u001b[0m \u001b[38;5;66;03m# Break explicitly a reference cycle\u001b[39;00m\n",
      "\u001b[1;31mConnectionRefusedError\u001b[0m: [WinError 10061] No connection could be made because the target machine actively refused it",
      "\nThe above exception was the direct cause of the following exception:\n",
      "\u001b[1;31mNewConnectionError\u001b[0m                        Traceback (most recent call last)",
      "File \u001b[1;32mc:\\Users\\Brandon\\AppData\\Local\\Programs\\Python\\Python312\\Lib\\site-packages\\urllib3\\connectionpool.py:793\u001b[0m, in \u001b[0;36mHTTPConnectionPool.urlopen\u001b[1;34m(self, method, url, body, headers, retries, redirect, assert_same_host, timeout, pool_timeout, release_conn, chunked, body_pos, preload_content, decode_content, **response_kw)\u001b[0m\n\u001b[0;32m    792\u001b[0m \u001b[38;5;66;03m# Make the request on the HTTPConnection object\u001b[39;00m\n\u001b[1;32m--> 793\u001b[0m response \u001b[38;5;241m=\u001b[39m \u001b[38;5;28;43mself\u001b[39;49m\u001b[38;5;241;43m.\u001b[39;49m\u001b[43m_make_request\u001b[49m\u001b[43m(\u001b[49m\n\u001b[0;32m    794\u001b[0m \u001b[43m    \u001b[49m\u001b[43mconn\u001b[49m\u001b[43m,\u001b[49m\n\u001b[0;32m    795\u001b[0m \u001b[43m    \u001b[49m\u001b[43mmethod\u001b[49m\u001b[43m,\u001b[49m\n\u001b[0;32m    796\u001b[0m \u001b[43m    \u001b[49m\u001b[43murl\u001b[49m\u001b[43m,\u001b[49m\n\u001b[0;32m    797\u001b[0m \u001b[43m    \u001b[49m\u001b[43mtimeout\u001b[49m\u001b[38;5;241;43m=\u001b[39;49m\u001b[43mtimeout_obj\u001b[49m\u001b[43m,\u001b[49m\n\u001b[0;32m    798\u001b[0m \u001b[43m    \u001b[49m\u001b[43mbody\u001b[49m\u001b[38;5;241;43m=\u001b[39;49m\u001b[43mbody\u001b[49m\u001b[43m,\u001b[49m\n\u001b[0;32m    799\u001b[0m \u001b[43m    \u001b[49m\u001b[43mheaders\u001b[49m\u001b[38;5;241;43m=\u001b[39;49m\u001b[43mheaders\u001b[49m\u001b[43m,\u001b[49m\n\u001b[0;32m    800\u001b[0m \u001b[43m    \u001b[49m\u001b[43mchunked\u001b[49m\u001b[38;5;241;43m=\u001b[39;49m\u001b[43mchunked\u001b[49m\u001b[43m,\u001b[49m\n\u001b[0;32m    801\u001b[0m \u001b[43m    \u001b[49m\u001b[43mretries\u001b[49m\u001b[38;5;241;43m=\u001b[39;49m\u001b[43mretries\u001b[49m\u001b[43m,\u001b[49m\n\u001b[0;32m    802\u001b[0m \u001b[43m    \u001b[49m\u001b[43mresponse_conn\u001b[49m\u001b[38;5;241;43m=\u001b[39;49m\u001b[43mresponse_conn\u001b[49m\u001b[43m,\u001b[49m\n\u001b[0;32m    803\u001b[0m \u001b[43m    \u001b[49m\u001b[43mpreload_content\u001b[49m\u001b[38;5;241;43m=\u001b[39;49m\u001b[43mpreload_content\u001b[49m\u001b[43m,\u001b[49m\n\u001b[0;32m    804\u001b[0m \u001b[43m    \u001b[49m\u001b[43mdecode_content\u001b[49m\u001b[38;5;241;43m=\u001b[39;49m\u001b[43mdecode_content\u001b[49m\u001b[43m,\u001b[49m\n\u001b[0;32m    805\u001b[0m \u001b[43m    \u001b[49m\u001b[38;5;241;43m*\u001b[39;49m\u001b[38;5;241;43m*\u001b[39;49m\u001b[43mresponse_kw\u001b[49m\u001b[43m,\u001b[49m\n\u001b[0;32m    806\u001b[0m \u001b[43m\u001b[49m\u001b[43m)\u001b[49m\n\u001b[0;32m    808\u001b[0m \u001b[38;5;66;03m# Everything went great!\u001b[39;00m\n",
      "File \u001b[1;32mc:\\Users\\Brandon\\AppData\\Local\\Programs\\Python\\Python312\\Lib\\site-packages\\urllib3\\connectionpool.py:496\u001b[0m, in \u001b[0;36mHTTPConnectionPool._make_request\u001b[1;34m(self, conn, method, url, body, headers, retries, timeout, chunked, response_conn, preload_content, decode_content, enforce_content_length)\u001b[0m\n\u001b[0;32m    495\u001b[0m \u001b[38;5;28;01mtry\u001b[39;00m:\n\u001b[1;32m--> 496\u001b[0m     \u001b[43mconn\u001b[49m\u001b[38;5;241;43m.\u001b[39;49m\u001b[43mrequest\u001b[49m\u001b[43m(\u001b[49m\n\u001b[0;32m    497\u001b[0m \u001b[43m        \u001b[49m\u001b[43mmethod\u001b[49m\u001b[43m,\u001b[49m\n\u001b[0;32m    498\u001b[0m \u001b[43m        \u001b[49m\u001b[43murl\u001b[49m\u001b[43m,\u001b[49m\n\u001b[0;32m    499\u001b[0m \u001b[43m        \u001b[49m\u001b[43mbody\u001b[49m\u001b[38;5;241;43m=\u001b[39;49m\u001b[43mbody\u001b[49m\u001b[43m,\u001b[49m\n\u001b[0;32m    500\u001b[0m \u001b[43m        \u001b[49m\u001b[43mheaders\u001b[49m\u001b[38;5;241;43m=\u001b[39;49m\u001b[43mheaders\u001b[49m\u001b[43m,\u001b[49m\n\u001b[0;32m    501\u001b[0m \u001b[43m        \u001b[49m\u001b[43mchunked\u001b[49m\u001b[38;5;241;43m=\u001b[39;49m\u001b[43mchunked\u001b[49m\u001b[43m,\u001b[49m\n\u001b[0;32m    502\u001b[0m \u001b[43m        \u001b[49m\u001b[43mpreload_content\u001b[49m\u001b[38;5;241;43m=\u001b[39;49m\u001b[43mpreload_content\u001b[49m\u001b[43m,\u001b[49m\n\u001b[0;32m    503\u001b[0m \u001b[43m        \u001b[49m\u001b[43mdecode_content\u001b[49m\u001b[38;5;241;43m=\u001b[39;49m\u001b[43mdecode_content\u001b[49m\u001b[43m,\u001b[49m\n\u001b[0;32m    504\u001b[0m \u001b[43m        \u001b[49m\u001b[43menforce_content_length\u001b[49m\u001b[38;5;241;43m=\u001b[39;49m\u001b[43menforce_content_length\u001b[49m\u001b[43m,\u001b[49m\n\u001b[0;32m    505\u001b[0m \u001b[43m    \u001b[49m\u001b[43m)\u001b[49m\n\u001b[0;32m    507\u001b[0m \u001b[38;5;66;03m# We are swallowing BrokenPipeError (errno.EPIPE) since the server is\u001b[39;00m\n\u001b[0;32m    508\u001b[0m \u001b[38;5;66;03m# legitimately able to close the connection after sending a valid response.\u001b[39;00m\n\u001b[0;32m    509\u001b[0m \u001b[38;5;66;03m# With this behaviour, the received response is still readable.\u001b[39;00m\n",
      "File \u001b[1;32mc:\\Users\\Brandon\\AppData\\Local\\Programs\\Python\\Python312\\Lib\\site-packages\\urllib3\\connection.py:400\u001b[0m, in \u001b[0;36mHTTPConnection.request\u001b[1;34m(self, method, url, body, headers, chunked, preload_content, decode_content, enforce_content_length)\u001b[0m\n\u001b[0;32m    399\u001b[0m     \u001b[38;5;28mself\u001b[39m\u001b[38;5;241m.\u001b[39mputheader(header, value)\n\u001b[1;32m--> 400\u001b[0m \u001b[38;5;28;43mself\u001b[39;49m\u001b[38;5;241;43m.\u001b[39;49m\u001b[43mendheaders\u001b[49m\u001b[43m(\u001b[49m\u001b[43m)\u001b[49m\n\u001b[0;32m    402\u001b[0m \u001b[38;5;66;03m# If we're given a body we start sending that in chunks.\u001b[39;00m\n",
      "File \u001b[1;32mc:\\Users\\Brandon\\AppData\\Local\\Programs\\Python\\Python312\\Lib\\http\\client.py:1331\u001b[0m, in \u001b[0;36mHTTPConnection.endheaders\u001b[1;34m(self, message_body, encode_chunked)\u001b[0m\n\u001b[0;32m   1330\u001b[0m     \u001b[38;5;28;01mraise\u001b[39;00m CannotSendHeader()\n\u001b[1;32m-> 1331\u001b[0m \u001b[38;5;28;43mself\u001b[39;49m\u001b[38;5;241;43m.\u001b[39;49m\u001b[43m_send_output\u001b[49m\u001b[43m(\u001b[49m\u001b[43mmessage_body\u001b[49m\u001b[43m,\u001b[49m\u001b[43m \u001b[49m\u001b[43mencode_chunked\u001b[49m\u001b[38;5;241;43m=\u001b[39;49m\u001b[43mencode_chunked\u001b[49m\u001b[43m)\u001b[49m\n",
      "File \u001b[1;32mc:\\Users\\Brandon\\AppData\\Local\\Programs\\Python\\Python312\\Lib\\http\\client.py:1091\u001b[0m, in \u001b[0;36mHTTPConnection._send_output\u001b[1;34m(self, message_body, encode_chunked)\u001b[0m\n\u001b[0;32m   1090\u001b[0m \u001b[38;5;28;01mdel\u001b[39;00m \u001b[38;5;28mself\u001b[39m\u001b[38;5;241m.\u001b[39m_buffer[:]\n\u001b[1;32m-> 1091\u001b[0m \u001b[38;5;28;43mself\u001b[39;49m\u001b[38;5;241;43m.\u001b[39;49m\u001b[43msend\u001b[49m\u001b[43m(\u001b[49m\u001b[43mmsg\u001b[49m\u001b[43m)\u001b[49m\n\u001b[0;32m   1093\u001b[0m \u001b[38;5;28;01mif\u001b[39;00m message_body \u001b[38;5;129;01mis\u001b[39;00m \u001b[38;5;129;01mnot\u001b[39;00m \u001b[38;5;28;01mNone\u001b[39;00m:\n\u001b[0;32m   1094\u001b[0m \n\u001b[0;32m   1095\u001b[0m     \u001b[38;5;66;03m# create a consistent interface to message_body\u001b[39;00m\n",
      "File \u001b[1;32mc:\\Users\\Brandon\\AppData\\Local\\Programs\\Python\\Python312\\Lib\\http\\client.py:1035\u001b[0m, in \u001b[0;36mHTTPConnection.send\u001b[1;34m(self, data)\u001b[0m\n\u001b[0;32m   1034\u001b[0m \u001b[38;5;28;01mif\u001b[39;00m \u001b[38;5;28mself\u001b[39m\u001b[38;5;241m.\u001b[39mauto_open:\n\u001b[1;32m-> 1035\u001b[0m     \u001b[38;5;28;43mself\u001b[39;49m\u001b[38;5;241;43m.\u001b[39;49m\u001b[43mconnect\u001b[49m\u001b[43m(\u001b[49m\u001b[43m)\u001b[49m\n\u001b[0;32m   1036\u001b[0m \u001b[38;5;28;01melse\u001b[39;00m:\n",
      "File \u001b[1;32mc:\\Users\\Brandon\\AppData\\Local\\Programs\\Python\\Python312\\Lib\\site-packages\\urllib3\\connection.py:238\u001b[0m, in \u001b[0;36mHTTPConnection.connect\u001b[1;34m(self)\u001b[0m\n\u001b[0;32m    237\u001b[0m \u001b[38;5;28;01mdef\u001b[39;00m \u001b[38;5;21mconnect\u001b[39m(\u001b[38;5;28mself\u001b[39m) \u001b[38;5;241m-\u001b[39m\u001b[38;5;241m>\u001b[39m \u001b[38;5;28;01mNone\u001b[39;00m:\n\u001b[1;32m--> 238\u001b[0m     \u001b[38;5;28mself\u001b[39m\u001b[38;5;241m.\u001b[39msock \u001b[38;5;241m=\u001b[39m \u001b[38;5;28;43mself\u001b[39;49m\u001b[38;5;241;43m.\u001b[39;49m\u001b[43m_new_conn\u001b[49m\u001b[43m(\u001b[49m\u001b[43m)\u001b[49m\n\u001b[0;32m    239\u001b[0m     \u001b[38;5;28;01mif\u001b[39;00m \u001b[38;5;28mself\u001b[39m\u001b[38;5;241m.\u001b[39m_tunnel_host:\n\u001b[0;32m    240\u001b[0m         \u001b[38;5;66;03m# If we're tunneling it means we're connected to our proxy.\u001b[39;00m\n",
      "File \u001b[1;32mc:\\Users\\Brandon\\AppData\\Local\\Programs\\Python\\Python312\\Lib\\site-packages\\urllib3\\connection.py:213\u001b[0m, in \u001b[0;36mHTTPConnection._new_conn\u001b[1;34m(self)\u001b[0m\n\u001b[0;32m    212\u001b[0m \u001b[38;5;28;01mexcept\u001b[39;00m \u001b[38;5;167;01mOSError\u001b[39;00m \u001b[38;5;28;01mas\u001b[39;00m e:\n\u001b[1;32m--> 213\u001b[0m     \u001b[38;5;28;01mraise\u001b[39;00m NewConnectionError(\n\u001b[0;32m    214\u001b[0m         \u001b[38;5;28mself\u001b[39m, \u001b[38;5;124mf\u001b[39m\u001b[38;5;124m\"\u001b[39m\u001b[38;5;124mFailed to establish a new connection: \u001b[39m\u001b[38;5;132;01m{\u001b[39;00me\u001b[38;5;132;01m}\u001b[39;00m\u001b[38;5;124m\"\u001b[39m\n\u001b[0;32m    215\u001b[0m     ) \u001b[38;5;28;01mfrom\u001b[39;00m \u001b[38;5;21;01me\u001b[39;00m\n\u001b[0;32m    217\u001b[0m \u001b[38;5;66;03m# Audit hooks are only available in Python 3.8+\u001b[39;00m\n",
      "\u001b[1;31mNewConnectionError\u001b[0m: <urllib3.connection.HTTPConnection object at 0x00000246B73EC2C0>: Failed to establish a new connection: [WinError 10061] No connection could be made because the target machine actively refused it",
      "\nThe above exception was the direct cause of the following exception:\n",
      "\u001b[1;31mMaxRetryError\u001b[0m                             Traceback (most recent call last)",
      "File \u001b[1;32mc:\\Users\\Brandon\\AppData\\Local\\Programs\\Python\\Python312\\Lib\\site-packages\\requests\\adapters.py:667\u001b[0m, in \u001b[0;36mHTTPAdapter.send\u001b[1;34m(self, request, stream, timeout, verify, cert, proxies)\u001b[0m\n\u001b[0;32m    666\u001b[0m \u001b[38;5;28;01mtry\u001b[39;00m:\n\u001b[1;32m--> 667\u001b[0m     resp \u001b[38;5;241m=\u001b[39m \u001b[43mconn\u001b[49m\u001b[38;5;241;43m.\u001b[39;49m\u001b[43murlopen\u001b[49m\u001b[43m(\u001b[49m\n\u001b[0;32m    668\u001b[0m \u001b[43m        \u001b[49m\u001b[43mmethod\u001b[49m\u001b[38;5;241;43m=\u001b[39;49m\u001b[43mrequest\u001b[49m\u001b[38;5;241;43m.\u001b[39;49m\u001b[43mmethod\u001b[49m\u001b[43m,\u001b[49m\n\u001b[0;32m    669\u001b[0m \u001b[43m        \u001b[49m\u001b[43murl\u001b[49m\u001b[38;5;241;43m=\u001b[39;49m\u001b[43murl\u001b[49m\u001b[43m,\u001b[49m\n\u001b[0;32m    670\u001b[0m \u001b[43m        \u001b[49m\u001b[43mbody\u001b[49m\u001b[38;5;241;43m=\u001b[39;49m\u001b[43mrequest\u001b[49m\u001b[38;5;241;43m.\u001b[39;49m\u001b[43mbody\u001b[49m\u001b[43m,\u001b[49m\n\u001b[0;32m    671\u001b[0m \u001b[43m        \u001b[49m\u001b[43mheaders\u001b[49m\u001b[38;5;241;43m=\u001b[39;49m\u001b[43mrequest\u001b[49m\u001b[38;5;241;43m.\u001b[39;49m\u001b[43mheaders\u001b[49m\u001b[43m,\u001b[49m\n\u001b[0;32m    672\u001b[0m \u001b[43m        \u001b[49m\u001b[43mredirect\u001b[49m\u001b[38;5;241;43m=\u001b[39;49m\u001b[38;5;28;43;01mFalse\u001b[39;49;00m\u001b[43m,\u001b[49m\n\u001b[0;32m    673\u001b[0m \u001b[43m        \u001b[49m\u001b[43massert_same_host\u001b[49m\u001b[38;5;241;43m=\u001b[39;49m\u001b[38;5;28;43;01mFalse\u001b[39;49;00m\u001b[43m,\u001b[49m\n\u001b[0;32m    674\u001b[0m \u001b[43m        \u001b[49m\u001b[43mpreload_content\u001b[49m\u001b[38;5;241;43m=\u001b[39;49m\u001b[38;5;28;43;01mFalse\u001b[39;49;00m\u001b[43m,\u001b[49m\n\u001b[0;32m    675\u001b[0m \u001b[43m        \u001b[49m\u001b[43mdecode_content\u001b[49m\u001b[38;5;241;43m=\u001b[39;49m\u001b[38;5;28;43;01mFalse\u001b[39;49;00m\u001b[43m,\u001b[49m\n\u001b[0;32m    676\u001b[0m \u001b[43m        \u001b[49m\u001b[43mretries\u001b[49m\u001b[38;5;241;43m=\u001b[39;49m\u001b[38;5;28;43mself\u001b[39;49m\u001b[38;5;241;43m.\u001b[39;49m\u001b[43mmax_retries\u001b[49m\u001b[43m,\u001b[49m\n\u001b[0;32m    677\u001b[0m \u001b[43m        \u001b[49m\u001b[43mtimeout\u001b[49m\u001b[38;5;241;43m=\u001b[39;49m\u001b[43mtimeout\u001b[49m\u001b[43m,\u001b[49m\n\u001b[0;32m    678\u001b[0m \u001b[43m        \u001b[49m\u001b[43mchunked\u001b[49m\u001b[38;5;241;43m=\u001b[39;49m\u001b[43mchunked\u001b[49m\u001b[43m,\u001b[49m\n\u001b[0;32m    679\u001b[0m \u001b[43m    \u001b[49m\u001b[43m)\u001b[49m\n\u001b[0;32m    681\u001b[0m \u001b[38;5;28;01mexcept\u001b[39;00m (ProtocolError, \u001b[38;5;167;01mOSError\u001b[39;00m) \u001b[38;5;28;01mas\u001b[39;00m err:\n",
      "File \u001b[1;32mc:\\Users\\Brandon\\AppData\\Local\\Programs\\Python\\Python312\\Lib\\site-packages\\urllib3\\connectionpool.py:847\u001b[0m, in \u001b[0;36mHTTPConnectionPool.urlopen\u001b[1;34m(self, method, url, body, headers, retries, redirect, assert_same_host, timeout, pool_timeout, release_conn, chunked, body_pos, preload_content, decode_content, **response_kw)\u001b[0m\n\u001b[0;32m    845\u001b[0m     new_e \u001b[38;5;241m=\u001b[39m ProtocolError(\u001b[38;5;124m\"\u001b[39m\u001b[38;5;124mConnection aborted.\u001b[39m\u001b[38;5;124m\"\u001b[39m, new_e)\n\u001b[1;32m--> 847\u001b[0m retries \u001b[38;5;241m=\u001b[39m \u001b[43mretries\u001b[49m\u001b[38;5;241;43m.\u001b[39;49m\u001b[43mincrement\u001b[49m\u001b[43m(\u001b[49m\n\u001b[0;32m    848\u001b[0m \u001b[43m    \u001b[49m\u001b[43mmethod\u001b[49m\u001b[43m,\u001b[49m\u001b[43m \u001b[49m\u001b[43murl\u001b[49m\u001b[43m,\u001b[49m\u001b[43m \u001b[49m\u001b[43merror\u001b[49m\u001b[38;5;241;43m=\u001b[39;49m\u001b[43mnew_e\u001b[49m\u001b[43m,\u001b[49m\u001b[43m \u001b[49m\u001b[43m_pool\u001b[49m\u001b[38;5;241;43m=\u001b[39;49m\u001b[38;5;28;43mself\u001b[39;49m\u001b[43m,\u001b[49m\u001b[43m \u001b[49m\u001b[43m_stacktrace\u001b[49m\u001b[38;5;241;43m=\u001b[39;49m\u001b[43msys\u001b[49m\u001b[38;5;241;43m.\u001b[39;49m\u001b[43mexc_info\u001b[49m\u001b[43m(\u001b[49m\u001b[43m)\u001b[49m\u001b[43m[\u001b[49m\u001b[38;5;241;43m2\u001b[39;49m\u001b[43m]\u001b[49m\n\u001b[0;32m    849\u001b[0m \u001b[43m\u001b[49m\u001b[43m)\u001b[49m\n\u001b[0;32m    850\u001b[0m retries\u001b[38;5;241m.\u001b[39msleep()\n",
      "File \u001b[1;32mc:\\Users\\Brandon\\AppData\\Local\\Programs\\Python\\Python312\\Lib\\site-packages\\urllib3\\util\\retry.py:515\u001b[0m, in \u001b[0;36mRetry.increment\u001b[1;34m(self, method, url, response, error, _pool, _stacktrace)\u001b[0m\n\u001b[0;32m    514\u001b[0m     reason \u001b[38;5;241m=\u001b[39m error \u001b[38;5;129;01mor\u001b[39;00m ResponseError(cause)\n\u001b[1;32m--> 515\u001b[0m     \u001b[38;5;28;01mraise\u001b[39;00m MaxRetryError(_pool, url, reason) \u001b[38;5;28;01mfrom\u001b[39;00m \u001b[38;5;21;01mreason\u001b[39;00m  \u001b[38;5;66;03m# type: ignore[arg-type]\u001b[39;00m\n\u001b[0;32m    517\u001b[0m log\u001b[38;5;241m.\u001b[39mdebug(\u001b[38;5;124m\"\u001b[39m\u001b[38;5;124mIncremented Retry for (url=\u001b[39m\u001b[38;5;124m'\u001b[39m\u001b[38;5;132;01m%s\u001b[39;00m\u001b[38;5;124m'\u001b[39m\u001b[38;5;124m): \u001b[39m\u001b[38;5;132;01m%r\u001b[39;00m\u001b[38;5;124m\"\u001b[39m, url, new_retry)\n",
      "\u001b[1;31mMaxRetryError\u001b[0m: HTTPConnectionPool(host='localhost', port=8080): Max retries exceeded with url: /v1/web/test9?start-date=2023-09-01&end-date=2024-12-01&exclude-older=2023-09-01&branch=&agency=&partno= (Caused by NewConnectionError('<urllib3.connection.HTTPConnection object at 0x00000246B73EC2C0>: Failed to establish a new connection: [WinError 10061] No connection could be made because the target machine actively refused it'))",
      "\nDuring handling of the above exception, another exception occurred:\n",
      "\u001b[1;31mConnectionError\u001b[0m                           Traceback (most recent call last)",
      "Cell \u001b[1;32mIn[3], line 26\u001b[0m\n\u001b[0;32m     25\u001b[0m \u001b[38;5;28;01mtry\u001b[39;00m:\n\u001b[1;32m---> 26\u001b[0m     response \u001b[38;5;241m=\u001b[39m \u001b[43mrequests\u001b[49m\u001b[38;5;241;43m.\u001b[39;49m\u001b[43mget\u001b[49m\u001b[43m(\u001b[49m\u001b[43murl\u001b[49m\u001b[43m,\u001b[49m\u001b[43m \u001b[49m\u001b[43mparams\u001b[49m\u001b[38;5;241;43m=\u001b[39;49m\u001b[43mparams\u001b[49m\u001b[43m)\u001b[49m\n\u001b[0;32m     27\u001b[0m     response\u001b[38;5;241m.\u001b[39mraise_for_status()\n",
      "File \u001b[1;32mc:\\Users\\Brandon\\AppData\\Local\\Programs\\Python\\Python312\\Lib\\site-packages\\requests\\api.py:73\u001b[0m, in \u001b[0;36mget\u001b[1;34m(url, params, **kwargs)\u001b[0m\n\u001b[0;32m     63\u001b[0m \u001b[38;5;250m\u001b[39m\u001b[38;5;124mr\u001b[39m\u001b[38;5;124;03m\"\"\"Sends a GET request.\u001b[39;00m\n\u001b[0;32m     64\u001b[0m \n\u001b[0;32m     65\u001b[0m \u001b[38;5;124;03m:param url: URL for the new :class:`Request` object.\u001b[39;00m\n\u001b[1;32m   (...)\u001b[0m\n\u001b[0;32m     70\u001b[0m \u001b[38;5;124;03m:rtype: requests.Response\u001b[39;00m\n\u001b[0;32m     71\u001b[0m \u001b[38;5;124;03m\"\"\"\u001b[39;00m\n\u001b[1;32m---> 73\u001b[0m \u001b[38;5;28;01mreturn\u001b[39;00m \u001b[43mrequest\u001b[49m\u001b[43m(\u001b[49m\u001b[38;5;124;43m\"\u001b[39;49m\u001b[38;5;124;43mget\u001b[39;49m\u001b[38;5;124;43m\"\u001b[39;49m\u001b[43m,\u001b[49m\u001b[43m \u001b[49m\u001b[43murl\u001b[49m\u001b[43m,\u001b[49m\u001b[43m \u001b[49m\u001b[43mparams\u001b[49m\u001b[38;5;241;43m=\u001b[39;49m\u001b[43mparams\u001b[49m\u001b[43m,\u001b[49m\u001b[43m \u001b[49m\u001b[38;5;241;43m*\u001b[39;49m\u001b[38;5;241;43m*\u001b[39;49m\u001b[43mkwargs\u001b[49m\u001b[43m)\u001b[49m\n",
      "File \u001b[1;32mc:\\Users\\Brandon\\AppData\\Local\\Programs\\Python\\Python312\\Lib\\site-packages\\requests\\api.py:59\u001b[0m, in \u001b[0;36mrequest\u001b[1;34m(method, url, **kwargs)\u001b[0m\n\u001b[0;32m     58\u001b[0m \u001b[38;5;28;01mwith\u001b[39;00m sessions\u001b[38;5;241m.\u001b[39mSession() \u001b[38;5;28;01mas\u001b[39;00m session:\n\u001b[1;32m---> 59\u001b[0m     \u001b[38;5;28;01mreturn\u001b[39;00m \u001b[43msession\u001b[49m\u001b[38;5;241;43m.\u001b[39;49m\u001b[43mrequest\u001b[49m\u001b[43m(\u001b[49m\u001b[43mmethod\u001b[49m\u001b[38;5;241;43m=\u001b[39;49m\u001b[43mmethod\u001b[49m\u001b[43m,\u001b[49m\u001b[43m \u001b[49m\u001b[43murl\u001b[49m\u001b[38;5;241;43m=\u001b[39;49m\u001b[43murl\u001b[49m\u001b[43m,\u001b[49m\u001b[43m \u001b[49m\u001b[38;5;241;43m*\u001b[39;49m\u001b[38;5;241;43m*\u001b[39;49m\u001b[43mkwargs\u001b[49m\u001b[43m)\u001b[49m\n",
      "File \u001b[1;32mc:\\Users\\Brandon\\AppData\\Local\\Programs\\Python\\Python312\\Lib\\site-packages\\requests\\sessions.py:589\u001b[0m, in \u001b[0;36mSession.request\u001b[1;34m(self, method, url, params, data, headers, cookies, files, auth, timeout, allow_redirects, proxies, hooks, stream, verify, cert, json)\u001b[0m\n\u001b[0;32m    588\u001b[0m send_kwargs\u001b[38;5;241m.\u001b[39mupdate(settings)\n\u001b[1;32m--> 589\u001b[0m resp \u001b[38;5;241m=\u001b[39m \u001b[38;5;28;43mself\u001b[39;49m\u001b[38;5;241;43m.\u001b[39;49m\u001b[43msend\u001b[49m\u001b[43m(\u001b[49m\u001b[43mprep\u001b[49m\u001b[43m,\u001b[49m\u001b[43m \u001b[49m\u001b[38;5;241;43m*\u001b[39;49m\u001b[38;5;241;43m*\u001b[39;49m\u001b[43msend_kwargs\u001b[49m\u001b[43m)\u001b[49m\n\u001b[0;32m    591\u001b[0m \u001b[38;5;28;01mreturn\u001b[39;00m resp\n",
      "File \u001b[1;32mc:\\Users\\Brandon\\AppData\\Local\\Programs\\Python\\Python312\\Lib\\site-packages\\requests\\sessions.py:703\u001b[0m, in \u001b[0;36mSession.send\u001b[1;34m(self, request, **kwargs)\u001b[0m\n\u001b[0;32m    702\u001b[0m \u001b[38;5;66;03m# Send the request\u001b[39;00m\n\u001b[1;32m--> 703\u001b[0m r \u001b[38;5;241m=\u001b[39m \u001b[43madapter\u001b[49m\u001b[38;5;241;43m.\u001b[39;49m\u001b[43msend\u001b[49m\u001b[43m(\u001b[49m\u001b[43mrequest\u001b[49m\u001b[43m,\u001b[49m\u001b[43m \u001b[49m\u001b[38;5;241;43m*\u001b[39;49m\u001b[38;5;241;43m*\u001b[39;49m\u001b[43mkwargs\u001b[49m\u001b[43m)\u001b[49m\n\u001b[0;32m    705\u001b[0m \u001b[38;5;66;03m# Total elapsed time of the request (approximately)\u001b[39;00m\n",
      "File \u001b[1;32mc:\\Users\\Brandon\\AppData\\Local\\Programs\\Python\\Python312\\Lib\\site-packages\\requests\\adapters.py:700\u001b[0m, in \u001b[0;36mHTTPAdapter.send\u001b[1;34m(self, request, stream, timeout, verify, cert, proxies)\u001b[0m\n\u001b[0;32m    698\u001b[0m         \u001b[38;5;28;01mraise\u001b[39;00m SSLError(e, request\u001b[38;5;241m=\u001b[39mrequest)\n\u001b[1;32m--> 700\u001b[0m     \u001b[38;5;28;01mraise\u001b[39;00m \u001b[38;5;167;01mConnectionError\u001b[39;00m(e, request\u001b[38;5;241m=\u001b[39mrequest)\n\u001b[0;32m    702\u001b[0m \u001b[38;5;28;01mexcept\u001b[39;00m ClosedPoolError \u001b[38;5;28;01mas\u001b[39;00m e:\n",
      "\u001b[1;31mConnectionError\u001b[0m: HTTPConnectionPool(host='localhost', port=8080): Max retries exceeded with url: /v1/web/test9?start-date=2023-09-01&end-date=2024-12-01&exclude-older=2023-09-01&branch=&agency=&partno= (Caused by NewConnectionError('<urllib3.connection.HTTPConnection object at 0x00000246B73EC2C0>: Failed to establish a new connection: [WinError 10061] No connection could be made because the target machine actively refused it'))",
      "\nDuring handling of the above exception, another exception occurred:\n",
      "\u001b[1;31mKeyboardInterrupt\u001b[0m                         Traceback (most recent call last)",
      "Cell \u001b[1;32mIn[3], line 40\u001b[0m\n\u001b[0;32m     38\u001b[0m logging\u001b[38;5;241m.\u001b[39minfo(\u001b[38;5;124mf\u001b[39m\u001b[38;5;124m\"\u001b[39m\u001b[38;5;124mAttempt \u001b[39m\u001b[38;5;132;01m{\u001b[39;00mattempt\u001b[38;5;132;01m}\u001b[39;00m\u001b[38;5;124m: API request failed - \u001b[39m\u001b[38;5;132;01m{\u001b[39;00me\u001b[38;5;132;01m}\u001b[39;00m\u001b[38;5;124m\"\u001b[39m)\n\u001b[0;32m     39\u001b[0m \u001b[38;5;28;01mif\u001b[39;00m attempt \u001b[38;5;241m<\u001b[39m max_retries:\n\u001b[1;32m---> 40\u001b[0m     \u001b[43mtime\u001b[49m\u001b[38;5;241;43m.\u001b[39;49m\u001b[43msleep\u001b[49m\u001b[43m(\u001b[49m\u001b[43mdelay\u001b[49m\u001b[43m \u001b[49m\u001b[38;5;241;43m*\u001b[39;49m\u001b[43m \u001b[49m\u001b[43m(\u001b[49m\u001b[38;5;241;43m2\u001b[39;49m\u001b[43m \u001b[49m\u001b[38;5;241;43m*\u001b[39;49m\u001b[38;5;241;43m*\u001b[39;49m\u001b[43m \u001b[49m\u001b[43m(\u001b[49m\u001b[43mattempt\u001b[49m\u001b[43m \u001b[49m\u001b[38;5;241;43m-\u001b[39;49m\u001b[43m \u001b[49m\u001b[38;5;241;43m1\u001b[39;49m\u001b[43m)\u001b[49m\u001b[43m)\u001b[49m\u001b[43m)\u001b[49m  \u001b[38;5;66;03m# Exponential backoff\u001b[39;00m\n\u001b[0;32m     41\u001b[0m \u001b[38;5;28;01melse\u001b[39;00m:\n\u001b[0;32m     42\u001b[0m     logging\u001b[38;5;241m.\u001b[39minfo(\u001b[38;5;124m\"\u001b[39m\u001b[38;5;124mMax retries reached. Exiting.\u001b[39m\u001b[38;5;124m\"\u001b[39m)\n",
      "\u001b[1;31mKeyboardInterrupt\u001b[0m: "
     ]
    }
   ],
   "source": [
    "# Retrive data from API\n",
    "logging.info('BEGIN Retrieving API')\n",
    "\n",
    "max_retries=8\n",
    "delay=2\n",
    "\n",
    "# Initialize Start and End Date\n",
    "start_date = (datetime.today().replace(day=1) - relativedelta(months=16)).strftime(\"%Y-%m-%d\") \n",
    "end_date = (datetime.today().replace(day=1) - relativedelta(months=1)).strftime(\"%Y-%m-%d\")  \n",
    "\n",
    "logging.info(f\"API Data From Start Date: {start_date} to End Date: {end_date}\")\n",
    "\n",
    "params = {\n",
    "    \"start-date\": start_date,\n",
    "    \"end-date\": end_date,\n",
    "    \"exclude-older\": start_date,\n",
    "    \"branch\": \"\",\n",
    "    \"agency\": \"\",\n",
    "    \"partno\": \"\"\n",
    "}\n",
    "\n",
    "url = \"http://localhost:8080/v1/web/test9\"\n",
    "    \n",
    "for attempt in range(1, max_retries + 1):\n",
    "    try:\n",
    "        response = requests.get(url, params=params)\n",
    "        response.raise_for_status()\n",
    "        data = response.json()\n",
    "        if 'data' in data and 'data-count' in data:\n",
    "            logging.info(str(data['month-count']) + \" Month Data Retrived\")\n",
    "            logging.info(str(data['data-count']) + \" Data retrived from API\")\n",
    "            df = pd.DataFrame(data['data'])\n",
    "            break\n",
    "        else:\n",
    "            logging.info(\"Error: Unexpected API response format\")\n",
    "            break\n",
    "    except requests.RequestException as e:\n",
    "        logging.info(f\"Attempt {attempt}: API request failed - {e}\")\n",
    "        if attempt < max_retries:\n",
    "            time.sleep(delay * (2 ** (attempt - 1)))  # Exponential backoff\n",
    "        else:\n",
    "            logging.info(\"Max retries reached. Exiting.\")\n",
    "            sys.exit(1)\n",
    "\n",
    "# display(df.head())"
   ]
  },
  {
   "cell_type": "code",
   "execution_count": 7,
   "metadata": {},
   "outputs": [
    {
     "name": "stderr",
     "output_type": "stream",
     "text": [
      "2025-01-22 11:17:43 - INFO - BEGIN Constructing All Branch Data and Combine It to DF\n",
      "2025-01-22 11:17:43 - INFO - All Branch Data Constructed And Merged With DF With Total Data 20\n"
     ]
    }
   ],
   "source": [
    "# Contruct All Branch Data and Concat It To DF\n",
    "logging.info(\"BEGIN Constructing All Branch Data and Combine It to DF\")\n",
    "\n",
    "df_all = df.groupby([\"agency\", \"partno\"], as_index=False)[\"d\"].apply(\n",
    "    lambda x: np.sum(np.array(x.tolist()), axis=0).tolist()\n",
    ")\n",
    "df_all.insert(0, \"branch\", \"ALL\")\n",
    "df = pd.concat([df, df_all], ignore_index=True)\n",
    "\n",
    "logging.info(\n",
    "    f\"All Branch Data Constructed And Merged With DF With Total Data {len(df)}\"\n",
    ")"
   ]
  },
  {
   "cell_type": "code",
   "execution_count": 8,
   "metadata": {},
   "outputs": [
    {
     "name": "stderr",
     "output_type": "stream",
     "text": [
      "2025-01-22 11:17:43 - INFO - BEGIN Forcast Calculation\n"
     ]
    }
   ],
   "source": [
    "# Calculate Forecast\n",
    "logging.info(\"BEGIN Forecast Calculation\")\n",
    "# display(df)"
   ]
  },
  {
   "cell_type": "code",
   "execution_count": 9,
   "metadata": {},
   "outputs": [
    {
     "name": "stderr",
     "output_type": "stream",
     "text": [
      "2025-01-22 11:17:43 - INFO - BEGIN Mean, Std, UB Calculation, and Construct Clipping Data\n"
     ]
    }
   ],
   "source": [
    "logging.info(\"BEGIN Mean, Std, UB Calculation, and Construct Clipping Data\")\n",
    "\n",
    "# Get mean and standard deviation of 12 periods before the last one\n",
    "df['mean_12'] = df['d'].apply(lambda x: np.mean(x[-13:-1]))  # Use 12 periods before the last one\n",
    "df['std_12'] = df['d'].apply(lambda x: np.std(x[-13:-1]))    # Use 12 periods before the last one\n",
    "\n",
    "# Get upper bound from mean and std\n",
    "df['ub'] = df['mean_12'] + 1.5 * df['std_12']\n",
    "\n",
    "# Limit the original df to upper bound (using the 12 periods before the last one)\n",
    "df['clipped_d'] = df.apply(lambda row: np.clip(row['d'][-13:-1], 0, row['ub']).tolist(), axis=1)\n",
    "\n",
    "# Display the updated DataFrame\n",
    "# display(df.head())"
   ]
  },
  {
   "cell_type": "code",
   "execution_count": 10,
   "metadata": {},
   "outputs": [
    {
     "name": "stderr",
     "output_type": "stream",
     "text": [
      "2025-01-22 11:17:43 - INFO - BEGIN Simple Moving Average Calculation\n"
     ]
    }
   ],
   "source": [
    "logging.info(\"BEGIN Simple Moving Average Calculation\")\n",
    "\n",
    "# Calculate Simple Moving Average\n",
    "df['ma'] = df['clipped_d'].apply(lambda x: pd.Series(x).rolling(window=len(x), min_periods=1).mean().tolist())\n",
    "df['ma_result'] = df['ma'].apply(lambda x: x[-1:])\n",
    "\n",
    "# Display the updated DataFrame\n",
    "# display(df.head())"
   ]
  },
  {
   "cell_type": "code",
   "execution_count": 11,
   "metadata": {},
   "outputs": [
    {
     "name": "stderr",
     "output_type": "stream",
     "text": [
      "2025-01-22 11:17:43 - INFO - BEGIN Weighted Moving Average Calculation\n"
     ]
    }
   ],
   "source": [
    "logging.info(\"BEGIN Weighted Moving Average Calculation\")\n",
    "\n",
    "df['wma_clipped_d'] = df.apply(lambda row: np.clip(row['d'][-16:-1], 0, row['ub']).tolist(), axis=1)\n",
    "\n",
    "def wma_forecast_with_weights(df, weights):\n",
    "    wma_values = [None] * 3\n",
    "    for i in range(3, len(df)):\n",
    "        forecast = np.sum(np.array(df[i-3:i]) * weights) / sum(weights)\n",
    "        wma_values.append(forecast)\n",
    "    return wma_values\n",
    "\n",
    "def generate_weights(step=0.05):\n",
    "    weights = []\n",
    "    for w1 in np.arange(0.01, 1, step):\n",
    "        for w2 in np.arange(w1 + 0.01, 1 - w1, step):\n",
    "            w3 = 1 - w1 - w2\n",
    "            if w3 > w2 > w1 > 0 and abs(w1 + w2 + w3 - 1) < 1e-6:\n",
    "                weights.append((w1, w2, w3))\n",
    "    return weights\n",
    "\n",
    "best_weights_list = []\n",
    "best_maes = []\n",
    "\n",
    "for row in df['wma_clipped_d']:\n",
    "    best_mae = float('inf')\n",
    "    best_weights = None\n",
    "    for weights in generate_weights(step=0.05):\n",
    "        wma_values = wma_forecast_with_weights(row, weights)\n",
    "        mae = mean_absolute_error(row[-12:], wma_values[-12:])\n",
    "        if mae < best_mae:\n",
    "            best_mae = mae\n",
    "            best_weights = weights\n",
    "    best_weights_list.append(best_weights)\n",
    "    best_maes.append(best_mae)\n",
    "\n",
    "df['best_weights'] = best_weights_list\n",
    "df['best_mae'] = best_maes\n",
    "\n",
    "df['wma'], df['wma_result'] = zip(*df.apply(lambda row: (\n",
    "    wma_forecast_with_weights(row['wma_clipped_d'], row['best_weights'])[3:][-12:],\n",
    "    wma_forecast_with_weights(row['wma_clipped_d'], row['best_weights'])[-1:]\n",
    "), axis=1))\n",
    "\n",
    "# display(df)"
   ]
  },
  {
   "cell_type": "code",
   "execution_count": 12,
   "metadata": {},
   "outputs": [
    {
     "name": "stderr",
     "output_type": "stream",
     "text": [
      "2025-01-22 11:17:44 - INFO - BEGIN Exponential Weighted Moving Average Calculation\n"
     ]
    }
   ],
   "source": [
    "logging.info(\"BEGIN Exponential Weighted Moving Average Calculation\")\n",
    "\n",
    "# Calculate Exponential Weighted Moving Average (EWMA)\n",
    "alpha_ewma = 0.4\n",
    "\n",
    "def ewma(list, alpha = alpha_ewma):\n",
    "    df = pd.DataFrame(list)\n",
    "    df['ewma'] = df.ewm(alpha=alpha_ewma, adjust=False).mean()\n",
    "    return df['ewma'].tolist()\n",
    "\n",
    "def ewma_forecast(list, alpha):\n",
    "    ewma_values = ewma(list, alpha)\n",
    "    if len(ewma_values) > 0:\n",
    "        # Prediction for the next period\n",
    "        next_forecast = (1 - alpha) * ewma_values[-1]\n",
    "    else:\n",
    "        next_forecast = None\n",
    "    return ewma_values, next_forecast\n",
    "\n",
    "df['ewma'], df['ewma_result'] = zip(*df['clipped_d'].apply(lambda x: ewma_forecast(x, alpha_ewma)))\n",
    "\n",
    "# display(df)"
   ]
  },
  {
   "cell_type": "code",
   "execution_count": 13,
   "metadata": {},
   "outputs": [
    {
     "name": "stderr",
     "output_type": "stream",
     "text": [
      "2025-01-22 11:17:44 - INFO - BEGIN Linear Reggression Calculation\n"
     ]
    }
   ],
   "source": [
    "logging.info(\"BEGIN Linear Reggression Calculation\")\n",
    "\n",
    "#LINEAR REGRESSION\n",
    "#  Calculate Linear Regression\n",
    "def lr(x):\n",
    "    df = pd.DataFrame()\n",
    "    df['y'] = x\n",
    "    df['x'] = range(1, len(df) + 1)\n",
    "    model =  LinearRegression()\n",
    "    model.fit(df[['x']], df['y'])\n",
    "    df.loc[len(df), 'x'] = len(df) + 1\n",
    "    return model.predict(df[['x']])\n",
    "\n",
    "df['lr'] = df['clipped_d'].apply(lambda x: lr(x))\n",
    "df['lr_result'] = df['lr'].apply(lambda x: x[-1:])\n",
    "# display(df)"
   ]
  },
  {
   "cell_type": "code",
   "execution_count": 14,
   "metadata": {},
   "outputs": [
    {
     "name": "stderr",
     "output_type": "stream",
     "text": [
      "2025-01-22 11:17:44 - INFO - BEGIN Polynomial Reggression Calculation\n"
     ]
    }
   ],
   "source": [
    "logging.info(\"BEGIN Polynomial Reggression Calculation\")\n",
    "\n",
    "#POLYNOMIAL 2ND AND 3RD\n",
    "# Calculate Polynomial Regression\n",
    "def pr(x, pr_degree):\n",
    "    df = pd.DataFrame()\n",
    "    df['y'] = x\n",
    "    df['x'] = range(1, len(df) + 1)\n",
    "\n",
    "    X = df[['x']]  # Independent variable (reshape to 2D array)\n",
    "    y = df['y']    # Dependent variable\n",
    "\n",
    "    poly = PolynomialFeatures(degree=pr_degree)  # Create polynomial features\n",
    "    X_poly = poly.fit_transform(X)  # Transform input features\n",
    "    poly_model = LinearRegression()  # Initialize linear regression model\n",
    "    poly_model.fit(X_poly, y)  # Fit polynomial model\n",
    "\n",
    "    df.loc[len(df), 'x'] = len(df) + 1\n",
    "    X_all_poly = poly.transform(df[['x']])\n",
    "    return poly_model.predict(X_all_poly)  \n",
    "\n",
    "df['pr2'] = df['clipped_d'].apply(lambda x: pr(x, 2))\n",
    "df['pr2_result'] = df['pr2'].apply(lambda x: x[-1:])\n",
    "df['pr3'] = df['clipped_d'].apply(lambda x: pr(x, 3))\n",
    "df['pr3_result'] = df['pr3'].apply(lambda x: x[-1:])\n",
    "# display(df)"
   ]
  },
  {
   "cell_type": "code",
   "execution_count": 15,
   "metadata": {},
   "outputs": [
    {
     "name": "stderr",
     "output_type": "stream",
     "text": [
      "2025-01-22 11:17:44 - INFO - BEGIN Simple Exponential Smoothing Calculation\n"
     ]
    }
   ],
   "source": [
    "logging.info(\"BEGIN Simple Exponential Smoothing Calculation\")\n",
    "\n",
    "alpha_ses = 0.65  # ubah nilai alpha (semakin besar semakin berat ke data terbaru)\n",
    "\n",
    "#SES\n",
    "def ses(x, alpha = alpha_ses):\n",
    "    df = pd.DataFrame()\n",
    "    df['y'] = x\n",
    "    df['x'] = range(1, len(df) + 1)\n",
    "    df.loc[len(df), 'x'] = len(df) + 1\n",
    "\n",
    "    new_data = SimpleExpSmoothing(df['y']).fit(smoothing_level=alpha, optimized=False).fittedvalues\n",
    "    return new_data.tolist()\n",
    "\n",
    "df['ses'] = df['clipped_d'].apply(lambda x: ses(x, alpha_ses))\n",
    "df['ses_result'] = df['ses'].apply(lambda x: x[-1:])\n",
    "\n",
    "# display(df)"
   ]
  },
  {
   "cell_type": "code",
   "execution_count": 16,
   "metadata": {},
   "outputs": [
    {
     "name": "stderr",
     "output_type": "stream",
     "text": [
      "2025-01-22 11:17:44 - INFO - BEGIN Double Exponential Smoothing Calculation\n"
     ]
    }
   ],
   "source": [
    "logging.info(\"BEGIN Double Exponential Smoothing Calculation\")\n",
    "\n",
    "beta_des = 0.45\n",
    "\n",
    "#DES\n",
    "def des(x, alpha = alpha_ses, beta = beta_des):\n",
    "    df = pd.DataFrame()\n",
    "    df['y'] = x\n",
    "    df['x'] = range(1, len(df) + 1)\n",
    "    df.loc[len(df), 'x'] = len(df) + 1\n",
    "\n",
    "    new_data = ExponentialSmoothing(df['y'], trend='add', seasonal=None).fit(smoothing_level=alpha, smoothing_trend=beta, optimized=False).fittedvalues\n",
    "    return new_data.tolist()\n",
    "\n",
    "df['des'] = df['clipped_d'].apply(lambda x: des(x,alpha_ses, beta_des))\n",
    "df['des_result'] = df['des'].apply(lambda x: x[-1:])\n",
    "# display(df)"
   ]
  },
  {
   "cell_type": "code",
   "execution_count": 17,
   "metadata": {},
   "outputs": [
    {
     "name": "stderr",
     "output_type": "stream",
     "text": [
      "2025-01-22 11:17:44 - INFO - BEGIN Metric Calculation\n"
     ]
    }
   ],
   "source": [
    "logging.info(\"BEGIN Metric Calculation\")\n",
    "\n",
    "# Calculate metrics for each model\n",
    "def metric(x):\n",
    "    period_length = len(x['clipped_d'])\n",
    "    df = pd.DataFrame()\n",
    "    df['period'] = range(1, period_length + 1)\n",
    "    df['qty'] = x['clipped_d'][:period_length]  # Ground truth values\n",
    "    df['ma'] = x['ma'][:period_length]\n",
    "    df['wma'] = x['wma'][:period_length]\n",
    "    df['ewma'] = x['ewma'][:period_length]\n",
    "    df['lr'] = x['lr'][:period_length]\n",
    "    df['pr2'] = x['pr2'][:period_length]\n",
    "    df['pr3'] = x['pr3'][:period_length]\n",
    "    df['ses'] = x['ses'][:period_length]\n",
    "    df['des'] = x['des'][:period_length]\n",
    "\n",
    "    # Calculate metrics for each model\n",
    "    result = []\n",
    "    for model in df.columns[2:]:  # Loop through model columns (ma, ewma, etc.)\n",
    "        rmse = np.sqrt(mean_squared_error(df['qty'], df[model]))  # Calculate RMSE\n",
    "        r2 = r2_score(df['qty'], df[model])  # Calculate R²\n",
    "        mae = mean_absolute_error(df['qty'], df[model])  # Calculate MAE\n",
    "        result.append({'model': model, 'RMSE': rmse, 'MAE': mae, 'R2': r2})\n",
    "    \n",
    "    # Convert result to a DataFrame\n",
    "    metrics_df = pd.DataFrame(result)\n",
    "    \n",
    "    # Select the best model (e.g., based on RMSE)\n",
    "    best_model_row = metrics_df.loc[metrics_df['MAE'].idxmin()]  # Row with the lowest RMSE\n",
    "    best_model = best_model_row['model']\n",
    "    \n",
    "    # Add the best model and metrics to the result\n",
    "    return {'best_model': best_model, 'metrics': metrics_df.to_dict(orient='records')}\n",
    "\n",
    "# Apply the metric function\n",
    "df['metric'] = df.apply(lambda x: metric(x), axis=1)\n",
    "\n",
    "# Extract the best model and metrics for each row\n",
    "df['best_model'] = df['metric'].apply(lambda x: x['best_model'])\n",
    "df['metrics'] = df['metric'].apply(lambda x: x['metrics'])\n",
    "\n",
    "# Display the DataFrame\n",
    "# display(df[['wma']])\n",
    "# display(df[['best_model', 'metrics']])"
   ]
  },
  {
   "cell_type": "code",
   "execution_count": 18,
   "metadata": {},
   "outputs": [
    {
     "name": "stderr",
     "output_type": "stream",
     "text": [
      "2025-01-22 11:17:44 - INFO - BEGIN Data Selection Calculation\n"
     ]
    }
   ],
   "source": [
    "logging.info(\"BEGIN Data Selection Calculation\")\n",
    "\n",
    "# Select the best model for each row\n",
    "df['mean_12_FD'] = df['d'].apply(lambda x: np.mean(x[-12:]))\n",
    "df['std_12_FD'] = df['d'].apply(lambda x: np.std(x[-12:]))\n",
    "\n",
    "df['ub_FD'] = df['mean_12_FD'] + 1.5 * df['std_12_FD']\n",
    "\n",
    "df['clipped_d_FD'] = df.apply(lambda row: np.clip(row['d'][-12:], 0, row['ub_FD']).tolist(), axis=1)\n",
    "def apply_best_model_forecast(row):\n",
    "    best_model = row['best_model']\n",
    "    \n",
    "    data = row['d'][-15:] if best_model == 'wma' else row['d'][-12:]\n",
    "    \n",
    "    ub = row['ub_FD']\n",
    "    clipped_data = np.clip(data, 0, ub).tolist()\n",
    "    # print(f\"Clipped data for model {best_model}: {clipped_data}\")\n",
    "    \n",
    "    if best_model == 'ma':\n",
    "        ma_values = pd.Series(clipped_data).rolling(window=len(clipped_data), min_periods=1).mean().tolist()\n",
    "        forecast = ma_values[-1]\n",
    "        # print('ma')\n",
    "    elif best_model == 'ewma':\n",
    "        alpha = 0.4\n",
    "        weights = np.array([(1 - alpha) ** i for i in range(len(clipped_data))][::-1])\n",
    "        forecast = np.sum(weights * clipped_data) / np.sum(weights)\n",
    "        # print('ewma')\n",
    "    elif best_model == 'wma':\n",
    "        weights = [0.2, 0.3, 0.5]\n",
    "        if len(clipped_data) >= len(weights):\n",
    "            forecast = np.sum(np.array(clipped_data[-3:]) * weights)\n",
    "        else:\n",
    "            forecast = np.nan\n",
    "        # print('wma')\n",
    "    elif best_model == 'lr':\n",
    "        X = np.arange(len(clipped_data)).reshape(-1, 1)\n",
    "        y = np.array(clipped_data)\n",
    "        coef = np.polyfit(X.flatten(), y, 1)\n",
    "        forecast = coef[0] * len(clipped_data) + coef[1]\n",
    "        # print('lr')\n",
    "    elif best_model == 'pr2':\n",
    "        X = np.arange(len(clipped_data)).reshape(-1, 1)\n",
    "        y = np.array(clipped_data)\n",
    "        coef = np.polyfit(X.flatten(), y, 2)\n",
    "        forecast = coef[0] * (len(clipped_data) ** 2) + coef[1] * len(clipped_data) + coef[2]\n",
    "        # print('pr2')\n",
    "    elif best_model == 'pr3':\n",
    "        X = np.arange(len(clipped_data)).reshape(-1, 1)\n",
    "        y = np.array(clipped_data)\n",
    "        coef = np.polyfit(X.flatten(), y, 3)\n",
    "        forecast = (\n",
    "            coef[0] * (len(clipped_data) ** 3)\n",
    "            + coef[1] * (len(clipped_data) ** 2)\n",
    "            + coef[2] * len(clipped_data)\n",
    "            + coef[3]\n",
    "        )\n",
    "    elif best_model == 'ses':\n",
    "        model = SimpleExpSmoothing(clipped_data).fit(smoothing_level=0.65, optimized=False)\n",
    "        forecast = model.forecast(1)[0]\n",
    "        # print('ses')\n",
    "    elif best_model == 'des':\n",
    "        model = Holt(clipped_data).fit(smoothing_level=0.65, smoothing_slope=0.45, optimized=False)\n",
    "        forecast = model.forecast(1)[0]\n",
    "        # print('des')\n",
    "    else:\n",
    "        forecast = np.nan\n",
    "    \n",
    "    return forecast\n",
    "\n",
    "df['FD_forecast'] = df.apply(apply_best_model_forecast, axis=1)\n",
    "\n",
    "df['FD_final'] = df['FD_forecast'].apply(np.ceil)\n",
    "\n",
    "# display(df[['best_model', 'FD_forecast', 'FD_final']])\n",
    "# display(df)\n"
   ]
  },
  {
   "cell_type": "code",
   "execution_count": 19,
   "metadata": {},
   "outputs": [
    {
     "name": "stderr",
     "output_type": "stream",
     "text": [
      "2025-01-22 11:17:45 - INFO - Forcast Calculation Completed\n"
     ]
    }
   ],
   "source": [
    "logging.info(\"Forecast Calculation Completed\")"
   ]
  },
  {
   "cell_type": "code",
   "execution_count": 20,
   "metadata": {},
   "outputs": [
    {
     "name": "stderr",
     "output_type": "stream",
     "text": [
      "2025-01-22 11:17:45 - INFO - Begin Creating Excel For DataFrame\n",
      "2025-01-22 11:17:45 - INFO - Excel File Created: output/forecast_2025-01-22.xlsx, Size: 0.01 MB\n"
     ]
    }
   ],
   "source": [
    "logging.info(\"Begin Creating Excel For DataFrame\")\n",
    "\n",
    "# if output folder not exist, create it\n",
    "if not os.path.exists(\"output\"):\n",
    "    os.makedirs(\"output\")\n",
    "\n",
    "# Create Excel File, filename with date\n",
    "filename = \"output/forecast_\" + time.strftime(\"%Y-%m-%d\") + \".xlsx\"\n",
    "\n",
    "# Save DataFrame to Excel\n",
    "df.to_excel(filename, index=False)\n",
    "\n",
    "# Get the file size in MB\n",
    "file_size = os.path.getsize(filename) / (1024 * 1024)\n",
    "\n",
    "logging.info(f\"Excel File Created: {filename}, Size: {file_size:.2f} MB\")\n",
    "\n"
   ]
  },
  {
   "cell_type": "code",
   "execution_count": 21,
   "metadata": {},
   "outputs": [
    {
     "name": "stderr",
     "output_type": "stream",
     "text": [
      "2025-01-22 11:17:45 - INFO - BEGIN Constructing Final Data and send it back to API\n",
      "2025-01-22 11:17:45 - INFO - Start Sending 20 Row To API\n",
      "2025-01-22 11:17:45 - INFO - Send API Complete\n",
      "2025-01-22 11:17:45 - INFO - Status Code: 200\n",
      "2025-01-22 11:17:45 - INFO - Response Body: {\"success\":true,\"message\":\"20 records updated.\"}\n"
     ]
    }
   ],
   "source": [
    "# Send Data Back To API\n",
    "logging.info(\"BEGIN Constructing Final Data and send it back to API\")\n",
    "\n",
    "url = \"http://172.16.5.6:8080/v1/web/test9-post\"\n",
    "\n",
    "# construct result with branch, agency, partno\n",
    "result = df[['branch', 'agency', 'partno', 'FD_final', 'std_12_FD', 'mean_12_FD', 'ub_FD']]\n",
    "\n",
    "# change column name\n",
    "result.columns = ['branch', 'agency', 'partno', 'fd', 'std', 'mean', 'ub']\n",
    "\n",
    "# result = df.drop('d', axis=1)\n",
    "result_json = result.to_dict(orient='records')\n",
    "\n",
    "logging.info(\"Start Sending \" + str(len(result)) + \" Row To API\")\n",
    "\n",
    "for attempt in range(1, max_retries + 1):\n",
    "    try:\n",
    "        response = requests.post(url, json=result_json)\n",
    "        response.raise_for_status() \n",
    "        logging.info(\"Send API Complete\")\n",
    "        logging.info(f\"Status Code: {response.status_code}\")\n",
    "\n",
    "        if response.status_code == 200:\n",
    "            logging.info(f\"Response Body: {response.text}\")\n",
    "        else:\n",
    "            logging.info(\"Send Failed\")\n",
    "\n",
    "        break\n",
    "    except requests.RequestException as e:\n",
    "        logging.info(f\"Attempt {attempt}: API request failed - {e}\")\n",
    "        if attempt < max_retries:\n",
    "            time.sleep(delay * (2 ** (attempt - 1)))  # Exponential backoff\n",
    "        else:\n",
    "            logging.info(\"Max retries reached. Exiting.\")\n",
    "            sys.exit(1)  # Stop execution after max retries\n"
   ]
  }
 ],
 "metadata": {
  "kernelspec": {
   "display_name": "Python 3",
   "language": "python",
   "name": "python3"
  },
  "language_info": {
   "codemirror_mode": {
    "name": "ipython",
    "version": 3
   },
   "file_extension": ".py",
   "mimetype": "text/x-python",
   "name": "python",
   "nbconvert_exporter": "python",
   "pygments_lexer": "ipython3",
   "version": "3.12.3"
  }
 },
 "nbformat": 4,
 "nbformat_minor": 2
}

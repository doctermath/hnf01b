{
 "cells": [
  {
   "cell_type": "code",
   "execution_count": 187,
   "metadata": {},
   "outputs": [],
   "source": [
    "import numpy as np\n",
    "import pandas as pd\n",
    "\n",
    "import requests\n",
    "from datetime import datetime\n"
   ]
  },
  {
   "cell_type": "code",
   "execution_count": 188,
   "metadata": {},
   "outputs": [
    {
     "name": "stdout",
     "output_type": "stream",
     "text": [
      "2025-01-16 17:20:01 - BEGIN PYTHON FORECAST PROGRAM FOR SPAREPARTS\n"
     ]
    }
   ],
   "source": [
    "# Function to print a message with log\n",
    "def log_message(message):\n",
    "    current_time = datetime.now().strftime(\"%Y-%m-%d %H:%M:%S\")\n",
    "    print(f\"{current_time} - {message}\")\n",
    "\n",
    "log_message(\"BEGIN PYTHON FORECAST PROGRAM FOR SPAREPARTS\")"
   ]
  },
  {
   "cell_type": "code",
   "execution_count": 189,
   "metadata": {},
   "outputs": [
    {
     "name": "stdout",
     "output_type": "stream",
     "text": [
      "2025-01-16 17:20:01 - BEGIN Retrieving API\n",
      "2025-01-16 17:20:01 - 109 Data retrived from API\n"
     ]
    }
   ],
   "source": [
    "log_message('BEGIN Retrieving API')\n",
    "\n",
    "# Get Data From API\n",
    "params = {\n",
    "    \"start-date\": \"2023-01-01\",\n",
    "    \"end-date\": \"2024-12-01\",\n",
    "    \"exclude-older\": \"2024-01-01\",\n",
    "    \"branch\": \"\",\n",
    "    \"agency\": \"\",\n",
    "    \"partno\": \"\"\n",
    "}\n",
    "\n",
    "url = \"http://172.16.5.6:8080/v1/web/test9\"\n",
    "response = requests.get(url, params=params)\n",
    "data = response.json()\n",
    "df = pd.DataFrame(data['data'])\n",
    "\n",
    "log_message(str(data['data-count']) + \" Data retrived from API\")\n",
    "\n",
    "# display(df)\n"
   ]
  },
  {
   "cell_type": "code",
   "execution_count": 190,
   "metadata": {},
   "outputs": [
    {
     "name": "stdout",
     "output_type": "stream",
     "text": [
      "2025-01-16 17:20:01 - BEGIN Constructing All Branch Data and combine it to df\n",
      "2025-01-16 17:20:01 - all branch data constructed and merged with df\n"
     ]
    }
   ],
   "source": [
    "log_message(\"BEGIN Constructing All Branch Data and combine it to df\")\n",
    "\n",
    "df_all = df.groupby(['agency', 'partno'], as_index=False)['d'].apply(lambda x: np.sum(np.array(x.tolist()), axis=0))\n",
    "df_all.insert(0, 'branch', 'ALL')\n",
    "\n",
    "df = pd.concat([df, df_all], ignore_index=True)\n",
    "\n",
    "log_message(\"all branch data constructed and merged with df\")\n"
   ]
  },
  {
   "cell_type": "code",
   "execution_count": 191,
   "metadata": {},
   "outputs": [
    {
     "name": "stdout",
     "output_type": "stream",
     "text": [
      "2025-01-16 17:20:01 - Begin Forecast Calculation\n",
      "2025-01-16 17:20:01 - Forcast Calculation Completed\n"
     ]
    }
   ],
   "source": [
    "def calc_sma(x):\n",
    "    ser = pd.Series(x)\n",
    "    sma = ser.rolling(window=4).mean()\n",
    "    return sma[-1:]\n",
    "\n",
    "log_message(\"Begin Forecast Calculation\")\n",
    "\n",
    "df['fd']   = df['d'].apply(calc_sma)\n",
    "df['std']  = df['d'].apply(lambda x: np.std(x))\n",
    "df['mean'] = df['d'].apply(lambda x: np.mean(x))\n",
    "df['ub']   = df['d'].apply(lambda x: np.max(x))\n",
    "\n",
    "log_message(\"Forcast Calculation Completed\")\n"
   ]
  },
  {
   "cell_type": "code",
   "execution_count": 192,
   "metadata": {},
   "outputs": [
    {
     "name": "stdout",
     "output_type": "stream",
     "text": [
      "2025-01-16 17:20:01 - BEGIN Constructing Final Data and send it back to API\n",
      "2025-01-16 17:20:01 - Start Sending 218 Row To API\n",
      "2025-01-16 17:20:01 - Send API Complete\n",
      "2025-01-16 17:20:01 - Status Code: 200\n",
      "2025-01-16 17:20:01 - Response Body: {\"success\":true,\"message\":\"218 records updated.\"}\n"
     ]
    }
   ],
   "source": [
    "log_message(\"BEGIN Constructing Final Data and send it back to API\")\n",
    "\n",
    "url = \"http://172.16.5.6:8080/v1/web/test9-post\"\n",
    "\n",
    "result = df.drop('d', axis=1)\n",
    "result_json = result.to_dict(orient='records')\n",
    "\n",
    "log_message(\"Start Sending \" + str(len(result)) + \" Row To API\")\n",
    "\n",
    "response = requests.post(url, json=result_json)\n",
    "\n",
    "log_message(f\"Send API Complete\")\n",
    "log_message(f\"Status Code: {response.status_code}\")\n",
    "if(response.status_code == 200):\n",
    "    log_message(f\"Response Body: {response.text}\")\n",
    "else:\n",
    "    log_message(f\"Send Failed\")\n",
    "\n",
    "# display(result)"
   ]
  },
  {
   "cell_type": "code",
   "execution_count": 193,
   "metadata": {},
   "outputs": [],
   "source": [
    "# display(result)"
   ]
  }
 ],
 "metadata": {
  "kernelspec": {
   "display_name": "Python 3",
   "language": "python",
   "name": "python3"
  },
  "language_info": {
   "codemirror_mode": {
    "name": "ipython",
    "version": 3
   },
   "file_extension": ".py",
   "mimetype": "text/x-python",
   "name": "python",
   "nbconvert_exporter": "python",
   "pygments_lexer": "ipython3",
   "version": "3.10.6"
  }
 },
 "nbformat": 4,
 "nbformat_minor": 2
}

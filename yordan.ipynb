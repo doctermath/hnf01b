{
 "cells": [
  {
   "cell_type": "code",
   "execution_count": 19,
   "metadata": {},
   "outputs": [],
   "source": [
    "\n",
    "import numpy as np\n",
    "import pandas as pd\n",
    "\n",
    "import time\n",
    "import sys\n",
    "import requests\n",
    "\n",
    "from datetime import datetime\n",
    "\n",
    "# Set Display Width Longer\n",
    "pd.options.display.max_colwidth = 100 # 100 for long width\n"
   ]
  },
  {
   "cell_type": "code",
   "execution_count": 20,
   "metadata": {},
   "outputs": [
    {
     "name": "stdout",
     "output_type": "stream",
     "text": [
      "2025-01-17 10:58:56 - BEGIN PYTHON FORECAST PROGRAM FOR SPAREPARTS\n"
     ]
    }
   ],
   "source": [
    "# Function to print a message with log\n",
    "def log_message(message):\n",
    "    current_time = datetime.now().strftime(\"%Y-%m-%d %H:%M:%S\")\n",
    "    print(f\"{current_time} - {message}\")\n",
    "\n",
    "log_message(\"BEGIN PYTHON FORECAST PROGRAM FOR SPAREPARTS\")"
   ]
  },
  {
   "cell_type": "code",
   "execution_count": null,
   "metadata": {},
   "outputs": [
    {
     "name": "stdout",
     "output_type": "stream",
     "text": [
      "2025-01-17 11:00:19 - BEGIN Retrieving API\n",
      "2025-01-17 11:00:20 - 1045 Data retrived from API\n"
     ]
    }
   ],
   "source": [
    "log_message('BEGIN Retrieving API')\n",
    "\n",
    "max_retries=8\n",
    "delay=2\n",
    "\n",
    "params = {\n",
    "    \"start-date\": \"2023-01-01\",\n",
    "    \"end-date\": \"2024-12-01\",\n",
    "    \"exclude-older\": \"2024-01-01\",\n",
    "    \"branch\": \"\",\n",
    "    \"agency\": \"\",\n",
    "    \"partno\": \"\"\n",
    "}\n",
    "\n",
    "url = \"http://172.16.5.6:8080/v1/web/test9\"\n",
    "    \n",
    "for attempt in range(1, max_retries + 1):\n",
    "    try:\n",
    "        response = requests.get(url, params=params)\n",
    "        response.raise_for_status()\n",
    "        data = response.json()\n",
    "        if 'data' in data and 'data-count' in data:\n",
    "            log_message(str(data['data-count']) + \" Data retrived from API\")\n",
    "            df = pd.DataFrame(data['data'])\n",
    "            break\n",
    "        else:\n",
    "            log_message(\"Error: Unexpected API response format\")\n",
    "            break\n",
    "    except requests.RequestException as e:\n",
    "        log_message(f\"Attempt {attempt}: API request failed - {e}\")\n",
    "        if attempt < max_retries:\n",
    "            time.sleep(delay * (2 ** (attempt - 1)))  # Exponential backoff\n",
    "        else:\n",
    "            log_message(\"Max retries reached. Exiting.\")\n",
    "            sys.exit(1)\n",
    "\n",
    "    \n",
    "# display(df)\n"
   ]
  },
  {
   "cell_type": "code",
   "execution_count": 29,
   "metadata": {},
   "outputs": [
    {
     "name": "stdout",
     "output_type": "stream",
     "text": [
      "2025-01-17 11:00:22 - BEGIN Constructing All Branch Data and Combine It to DF\n",
      "2025-01-17 11:00:22 - All Branch Data Constructed And Merged With DF With Total Data 2074\n"
     ]
    }
   ],
   "source": [
    "# Contruct All Branch Data and Concat It To DF\n",
    "log_message(\"BEGIN Constructing All Branch Data and Combine It to DF\")\n",
    "\n",
    "df_all = df.groupby(['agency', 'partno'], as_index=False)['d'].apply(lambda x: np.sum(np.array(x.tolist()), axis=0))\n",
    "df_all.insert(0, 'branch', 'ALL')\n",
    "df = pd.concat([df, df_all], ignore_index=True)\n",
    "\n",
    "log_message(f\"All Branch Data Constructed And Merged With DF With Total Data {len(df)}\")"
   ]
  },
  {
   "cell_type": "code",
   "execution_count": 30,
   "metadata": {},
   "outputs": [
    {
     "name": "stdout",
     "output_type": "stream",
     "text": [
      "2025-01-17 11:00:36 - BEGIN Forcast Calculation\n",
      "2025-01-17 11:00:37 - Forcast Calculation Completed\n"
     ]
    }
   ],
   "source": [
    "# Calculate Forecast\n",
    "log_message(\"BEGIN Forcast Calculation\")\n",
    "\n",
    "def calc_sma(x):\n",
    "    ser = pd.Series(x)\n",
    "    sma = ser.rolling(window=4).mean()\n",
    "    return sma[-1:]\n",
    "\n",
    "df['fd']   = df['d'].apply(calc_sma)\n",
    "df['std']  = df['d'].apply(lambda x: np.std(x))\n",
    "df['mean'] = df['d'].apply(lambda x: np.mean(x))\n",
    "df['ub']   = df['d'].apply(lambda x: np.max(x))\n",
    "\n",
    "log_message(\"Forcast Calculation Completed\")\n"
   ]
  },
  {
   "cell_type": "code",
   "execution_count": 24,
   "metadata": {},
   "outputs": [
    {
     "name": "stdout",
     "output_type": "stream",
     "text": [
      "2025-01-17 10:58:58 - BEGIN Constructing Final Data and send it back to API\n",
      "2025-01-17 10:58:58 - Start Sending 2074 Row To API\n",
      "2025-01-17 10:58:59 - Send API Complete\n",
      "2025-01-17 10:58:59 - Status Code: 200\n",
      "2025-01-17 10:58:59 - Response Body: {\"success\":true,\"message\":\"2074 records updated.\"}\n"
     ]
    }
   ],
   "source": [
    "# Send Data Back To API\n",
    "log_message(\"BEGIN Constructing Final Data and send it back to API\")\n",
    "\n",
    "url = \"http://172.16.5.6:8080/v1/web/test9-post\"\n",
    "\n",
    "result = df.drop('d', axis=1)\n",
    "result_json = result.to_dict(orient='records')\n",
    "\n",
    "log_message(\"Start Sending \" + str(len(result)) + \" Row To API\")\n",
    "\n",
    "for attempt in range(1, max_retries + 1):\n",
    "    try:\n",
    "        response = requests.post(url, json=result_json)\n",
    "        response.raise_for_status() \n",
    "        log_message(\"Send API Complete\")\n",
    "        log_message(f\"Status Code: {response.status_code}\")\n",
    "\n",
    "        if response.status_code == 200:\n",
    "            log_message(f\"Response Body: {response.text}\")\n",
    "        else:\n",
    "            log_message(\"Send Failed\")\n",
    "\n",
    "        break\n",
    "    except requests.RequestException as e:\n",
    "        log_message(f\"Attempt {attempt}: API request failed - {e}\")\n",
    "        if attempt < max_retries:\n",
    "            time.sleep(delay * (2 ** (attempt - 1)))  # Exponential backoff\n",
    "        else:\n",
    "            log_message(\"Max retries reached. Exiting.\")\n",
    "            sys.exit(1)  # Stop execution after max retries\n"
   ]
  }
 ],
 "metadata": {
  "kernelspec": {
   "display_name": "Python 3",
   "language": "python",
   "name": "python3"
  },
  "language_info": {
   "codemirror_mode": {
    "name": "ipython",
    "version": 3
   },
   "file_extension": ".py",
   "mimetype": "text/x-python",
   "name": "python",
   "nbconvert_exporter": "python",
   "pygments_lexer": "ipython3",
   "version": "3.10.6"
  }
 },
 "nbformat": 4,
 "nbformat_minor": 2
}

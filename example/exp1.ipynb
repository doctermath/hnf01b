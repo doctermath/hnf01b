{
 "cells": [
  {
   "cell_type": "code",
   "execution_count": 121,
   "metadata": {},
   "outputs": [],
   "source": [
    "# PACKAGES\n",
    "import numpy as np\n",
    "import pandas as pd\n",
    "import matplotlib.pyplot as plt\n",
    "from sklearn.metrics import mean_squared_error, r2_score\n",
    "from sklearn.linear_model import LinearRegression\n",
    "from sklearn.preprocessing import PolynomialFeatures\n",
    "from statsmodels.tsa.api import SimpleExpSmoothing, ExponentialSmoothing\n",
    "from tabulate import tabulate\n",
    "import os\n",
    "import json\n",
    "import sys\n",
    "import requests\n",
    "import math\n",
    "from datetime import datetime\n",
    "\n",
    "\n",
    "# Set Display Width Longer\n",
    "pd.options.display.max_colwidth = 100 # 100 for long width"
   ]
  },
  {
   "cell_type": "code",
   "execution_count": 122,
   "metadata": {},
   "outputs": [
    {
     "name": "stdout",
     "output_type": "stream",
     "text": [
      "2025-01-02 17:42:51 - Python Spareparts Forecast Program Begins\n"
     ]
    }
   ],
   "source": [
    "# Function to print a message with log\n",
    "def log_message(message):\n",
    "    current_time = datetime.now().strftime(\"%Y-%m-%d %H:%M:%S\")\n",
    "    print(f\"{current_time} - {message}\")\n",
    "\n",
    "# Write to the log file\n",
    "log_message(\"Python Spareparts Forecast Program Begins\")"
   ]
  },
  {
   "cell_type": "code",
   "execution_count": null,
   "metadata": {},
   "outputs": [
    {
     "name": "stdout",
     "output_type": "stream",
     "text": [
      "2025-01-02 18:10:41 - Finish Retriving API\n",
      "2025-01-02 18:10:41 - Retrieved 17573 data\n"
     ]
    }
   ],
   "source": [
    "# Retrive JSON Data From API.\n",
    "url = \"http://172.16.1.59:18080/v1/web/test1\"\n",
    "\n",
    "# Fetch JSON data from the API == ALL BRANCH\n",
    "response = requests.get(url, params= { \"all-branch\": True })\n",
    "response.raise_for_status()  # Raise an error if the request fails\n",
    "df = response.json()  # Parse JSON data\n",
    "\n",
    "# Convert JSON to Pandas DataFrame\n",
    "data_all = pd.DataFrame(df['data'])\n",
    "\n",
    "# Fetch JSON data from the API = SINGLE BRANCH\n",
    "response = requests.get(url, params= { \"all-branch\": False })\n",
    "response.raise_for_status()  # Raise an error if the request fails\n",
    "df = response.json()  # Parse JSON data\n",
    "\n",
    "# Convert JSON to Pandas DataFrame\n",
    "data_branch = pd.DataFrame(df['data'])\n",
    "\n",
    "log_message(\"Finish Retriving API\")\n",
    "\n",
    "# display(data_all)\n",
    "# display(data_branch)\n",
    "\n",
    "data = pd.concat([data_all, data_branch], axis=0).reset_index(drop=True)\n",
    "log_message(\"Retrieved \" + str(len(data)) + \" data\")\n",
    "# display(data)"
   ]
  },
  {
   "cell_type": "code",
   "execution_count": 92,
   "metadata": {},
   "outputs": [],
   "source": [
    "# Retrive Data from json\n",
    "if 1 == 0:\n",
    "    with open('from_api.json', 'r') as file:\n",
    "        jsonData = json.load(file)\n",
    "    jsonData = jsonData['data'][:5]\n",
    "    data = pd.DataFrame(jsonData)"
   ]
  },
  {
   "cell_type": "code",
   "execution_count": 127,
   "metadata": {},
   "outputs": [
    {
     "name": "stdout",
     "output_type": "stream",
     "text": [
      "2025-01-02 18:10:53 - Begin Calculating Data\n"
     ]
    }
   ],
   "source": [
    "# Add Metric to the data\n",
    "log_message(\"Begin Calculating Data\")\n",
    "\n",
    "# get mean and standart deviation of first 12 data\n",
    "data['mean_12'] = data['D'].apply(lambda x: np.mean(x[:12]))\n",
    "data['std_12'] = data['D'].apply(lambda x: np.std(x[:12], ddof=1))\n",
    "\n",
    "# get upper bound from mean and std\n",
    "data['ub'] = data['mean_12'] + 1.5 * data['std_12']\n",
    "\n",
    "# limit the original data to upper bound\n",
    "data['clipped_d'] = data.apply(lambda row: np.clip(row['D'][:12], 0, row['ub']).tolist(), axis=1)\n",
    "# display(data)"
   ]
  },
  {
   "cell_type": "code",
   "execution_count": 128,
   "metadata": {},
   "outputs": [],
   "source": [
    "# Calculate Simple Moving Average ?? this only calculate mean of data, not SMA\n",
    "def calculate_ma(list):\n",
    "    oldData = []\n",
    "    newData = []\n",
    "    for i in list:\n",
    "        # store calculated data to old list\n",
    "        oldData.append(i)\n",
    "        newData.append(np.mean(oldData))\n",
    "    return newData\n",
    "\n",
    "data['ma'] = data['clipped_d'].apply(calculate_ma)\n",
    "data['ma_result'] = data['ma'].apply(lambda x: x[-1:])\n",
    "# data['ma_result'] = data['clipped_d'].apply(lambda x: np.mean(x))\n",
    "# display(data)\n"
   ]
  },
  {
   "cell_type": "code",
   "execution_count": 129,
   "metadata": {},
   "outputs": [],
   "source": [
    "# Calculate Exponential Weighted Moving Average (EWMA)\n",
    "def ewma(list, alpha):\n",
    "    df = pd.DataFrame(list)\n",
    "    df['ewma'] = df.ewm(alpha=alpha, adjust=False).mean()\n",
    "    return df['ewma'].tolist()\n",
    "\n",
    "ewma_alpha = 0.3\n",
    "data['ewma'] = data['clipped_d'].apply(lambda x: ewma(x, ewma_alpha))\n",
    "data['ewma_result'] = data['ewma'].apply(lambda x: x[-1:])\n",
    "# display(data['ewma'][0])\n",
    "# display(data)"
   ]
  },
  {
   "cell_type": "code",
   "execution_count": 130,
   "metadata": {},
   "outputs": [],
   "source": [
    "#  Calculate Linear Regression\n",
    "def lr(x):\n",
    "    df = pd.DataFrame()\n",
    "    df['y'] = x\n",
    "    df['x'] = range(1, len(df) + 1)\n",
    "    model =  LinearRegression()\n",
    "    model.fit(df[['x']], df['y'])\n",
    "    df.loc[len(df), 'x'] = len(df) + 1\n",
    "    return model.predict(df[['x']])\n",
    "\n",
    "data['lr'] = data['clipped_d'].apply(lambda x: lr(x))\n",
    "data['lr_result'] = data['lr'].apply(lambda x: x[-1:])\n",
    "# display(data)\n"
   ]
  },
  {
   "cell_type": "code",
   "execution_count": 131,
   "metadata": {},
   "outputs": [],
   "source": [
    "# Calculate Polynomial Regression\n",
    "def pr(x, pr_degree):\n",
    "    df = pd.DataFrame()\n",
    "    df['y'] = x\n",
    "    df['x'] = range(1, len(df) + 1)\n",
    "\n",
    "    X = df[['x']]  # Independent variable (reshape to 2D array)\n",
    "    y = df['y']    # Dependent variable\n",
    "\n",
    "    poly = PolynomialFeatures(degree=pr_degree)  # Create polynomial features\n",
    "    X_poly = poly.fit_transform(X)  # Transform input features\n",
    "    poly_model = LinearRegression()  # Initialize linear regression model\n",
    "    poly_model.fit(X_poly, y)  # Fit polynomial model\n",
    "\n",
    "    df.loc[len(df), 'x'] = len(df) + 1\n",
    "    X_all_poly = poly.transform(df[['x']])\n",
    "    return poly_model.predict(X_all_poly)  \n",
    "\n",
    "data['pr2'] = data['clipped_d'].apply(lambda x: pr(x, 2))\n",
    "data['pr2_result'] = data['pr2'].apply(lambda x: x[-1:])\n",
    "data['pr3'] = data['clipped_d'].apply(lambda x: pr(x, 3))\n",
    "data['pr3_result'] = data['pr3'].apply(lambda x: x[-1:])\n",
    "# display(data)\n"
   ]
  },
  {
   "cell_type": "code",
   "execution_count": 132,
   "metadata": {},
   "outputs": [],
   "source": [
    "# Calculate Single Exponential Smoothing\n",
    "def ses(x, alpha):\n",
    "    df = pd.DataFrame()\n",
    "    df['y'] = x\n",
    "    df['x'] = range(1, len(df) + 1)\n",
    "    df.loc[len(df), 'x'] = len(df) + 1\n",
    "\n",
    "    new_data = SimpleExpSmoothing(df['y']).fit(smoothing_level=alpha, optimized=False).fittedvalues\n",
    "    return new_data.tolist()\n",
    "\n",
    "data['ses'] = data['clipped_d'].apply(lambda x: ses(x, 0.8))\n",
    "data['ses_result'] = data['ses'].apply(lambda x: x[-1:])\n",
    "# display(data)"
   ]
  },
  {
   "cell_type": "code",
   "execution_count": 133,
   "metadata": {},
   "outputs": [],
   "source": [
    "# Calculate Double Exponential Smoothing\n",
    "def des(x, alpha, beta):\n",
    "    df = pd.DataFrame()\n",
    "    df['y'] = x\n",
    "    df['x'] = range(1, len(df) + 1)\n",
    "    df.loc[len(df), 'x'] = len(df) + 1\n",
    "\n",
    "    new_data = ExponentialSmoothing(df['y'], trend='add', seasonal=None).fit(smoothing_level=alpha, smoothing_trend=beta, optimized=False).fittedvalues\n",
    "    return new_data.tolist()\n",
    "\n",
    "data['des'] = data['clipped_d'].apply(lambda x: des(x, 0.8, 0.3))\n",
    "data['des_result'] = data['des'].apply(lambda x: x[-1:])\n",
    "# display(data)"
   ]
  },
  {
   "cell_type": "code",
   "execution_count": 134,
   "metadata": {},
   "outputs": [
    {
     "name": "stdout",
     "output_type": "stream",
     "text": [
      "2025-01-02 18:15:41 - Calculating R2 and RMSE Score\n"
     ]
    }
   ],
   "source": [
    "# calculate R2 Score and RMSE\n",
    "log_message(\"Calculating R2 and RMSE Score\")\n",
    "\n",
    "def metric(x):\n",
    "    period_lenght = len(x['clipped_d'])\n",
    "    df = pd.DataFrame()\n",
    "    df['period'] = range(1, period_lenght + 1)\n",
    "    df['qty'] = x['clipped_d'][:period_lenght]\n",
    "    df['ma'] = x['ma'][:period_lenght]\n",
    "    df['ewma'] = x['ewma'][:period_lenght]\n",
    "    df['lr'] = x['lr'][:period_lenght]\n",
    "    df['pr2'] = x['pr2'][:period_lenght]\n",
    "    df['pr3'] = x['pr3'][:period_lenght]\n",
    "    df['ses'] = x['ses'][:period_lenght]\n",
    "    df['des'] = x['des'][:period_lenght]\n",
    "    # display(df)\n",
    "    \n",
    "    # df = pd.concat([pd.DataFrame(x['lr']), df], axis=1)\n",
    "    result = []\n",
    "    for i in df.iloc[:, -7:]:\n",
    "        rmse = np.sqrt(mean_squared_error(df['qty'], df[i]))  # Calculate RMSE\n",
    "        r2 = r2_score(df['qty'], df[i])  # Calculate R2\n",
    "        result.append({'model': i, 'RMSE': rmse, 'R2': r2})\n",
    "        \n",
    "    # display(result)\n",
    "    # df_result = pd.DataFrame()\n",
    "\n",
    "    \n",
    "    return result\n",
    "\n",
    "\n",
    "data['metric'] = data.apply(lambda x: metric(x), axis=1)\n",
    "\n",
    "# display(data['metric'][1])\n",
    "# display(data)"
   ]
  },
  {
   "cell_type": "code",
   "execution_count": 135,
   "metadata": {},
   "outputs": [],
   "source": [
    "# BEST MODEL SELECTION\n",
    "def best_select(x, key):\n",
    "    return max(x, key=lambda x: x['R2'])[key]\n",
    "\n",
    "def best_number(x):\n",
    "    return x[x['best_model']][-1]\n",
    "\n",
    "data['best_model'] = data['metric'].apply(lambda x: best_select(x, 'model'))\n",
    "data['best_r2'] = data['metric'].apply(lambda x: best_select(x, 'R2'))\n",
    "data['best_value'] = data.apply(lambda x: best_number(x), axis=1)\n",
    "data['FD'] = round(data['best_value'])\n",
    "# display(data)\n"
   ]
  },
  {
   "cell_type": "code",
   "execution_count": 137,
   "metadata": {},
   "outputs": [
    {
     "name": "stdout",
     "output_type": "stream",
     "text": [
      "2025-01-02 18:19:43 - Start Sending 17573 To API\n",
      "2025-01-02 18:20:43 - Send API Complete\n",
      "2025-01-02 18:20:43 - Status Code: 200\n",
      "2025-01-02 18:20:43 - Response Body: {\"success\":true,\"message\":\"17573 records updated.\"}\n"
     ]
    }
   ],
   "source": [
    "# Send Data Back To API\n",
    "\n",
    "# API endpoint\n",
    "url = \"http://172.16.1.59:18080/v1/web/test1-post\"\n",
    "\n",
    "data2 = data[['period', 'branch', 'agency', 'partno', 'FD', 'mean_12', 'std_12', 'ub']]\n",
    "json2 = data2.to_dict(orient='records')\n",
    "\n",
    "# display(data2.to_json(orient='records'))\n",
    "\n",
    "log_message(\"Start Sending \" + str(len(data2)) + \" To API\")\n",
    "\n",
    "# Send POST request\n",
    "response = requests.post(url, json=json2)\n",
    "\n",
    "log_message(f\"Send API Complete\")\n",
    "log_message(f\"Status Code: {response.status_code}\")\n",
    "log_message(f\"Response Body: {response.text}\")\n",
    "# print(response.json().get(\"success\", \"No status key found\"))"
   ]
  },
  {
   "cell_type": "code",
   "execution_count": 105,
   "metadata": {},
   "outputs": [
    {
     "name": "stdout",
     "output_type": "stream",
     "text": [
      "2024-12-31 16:06:17 - Data exported to excel on 'fcpart_excel.xlsx'\n"
     ]
    }
   ],
   "source": [
    "# Save to Excel with separate sheets\n",
    "with pd.ExcelWriter(\"fcpart_excel.xlsx\") as writer:\n",
    "    data.to_excel(writer, sheet_name=\"Sheet1\", index=False)  # Write data to Sheet1\n",
    "    data2.to_excel(writer, sheet_name=\"Sheet2\", index=False)  # Write data2 to Sheet2\n",
    "\n",
    "log_message(\"Data exported to excel on 'fcpart_excel.xlsx'\")"
   ]
  },
  {
   "cell_type": "code",
   "execution_count": 103,
   "metadata": {},
   "outputs": [],
   "source": [
    "# Convert DataFrame to JSON and write to a file\n",
    "\n",
    "# Specify the target directory where you want to save the file\n",
    "# target_folder = 'output/'  # Update this path\n",
    "\n",
    "# # Ensure the directory exists (create if it doesn't)\n",
    "# os.makedirs(target_folder, exist_ok=True)\n",
    "\n",
    "# # Full file path\n",
    "# file_path = os.path.join(target_folder, 'result.json')\n",
    "\n",
    "# data.to_json(file_path, orient='records', lines=False)\n",
    "# print(True)"
   ]
  }
 ],
 "metadata": {
  "kernelspec": {
   "display_name": "Python 3",
   "language": "python",
   "name": "python3"
  },
  "language_info": {
   "codemirror_mode": {
    "name": "ipython",
    "version": 3
   },
   "file_extension": ".py",
   "mimetype": "text/x-python",
   "name": "python",
   "nbconvert_exporter": "python",
   "pygments_lexer": "ipython3",
   "version": "3.10.6"
  }
 },
 "nbformat": 4,
 "nbformat_minor": 2
}
